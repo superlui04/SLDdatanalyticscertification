{
  "nbformat": 4,
  "nbformat_minor": 0,
  "metadata": {
    "kernelspec": {
      "display_name": "Python 3",
      "language": "python",
      "name": "python3"
    },
    "language_info": {
      "codemirror_mode": {
        "name": "ipython",
        "version": 3
      },
      "file_extension": ".py",
      "mimetype": "text/x-python",
      "name": "python",
      "nbconvert_exporter": "python",
      "pygments_lexer": "ipython3",
      "version": "3.6.6"
    },
    "colab": {
      "provenance": [],
      "collapsed_sections": [
        "vkrESCULVFSg",
        "fUumQOnfVFSk",
        "Rks7roJPVFTQ",
        "3Wh0aqW0Yh87",
        "w3wzEJR7VFTU",
        "QtvqpRWEVFTc",
        "UQvIlcLmVFTp"
      ],
      "toc_visible": true,
      "include_colab_link": true
    }
  },
  "cells": [
    {
      "cell_type": "markdown",
      "metadata": {
        "id": "view-in-github",
        "colab_type": "text"
      },
      "source": [
        "<a href=\"https://colab.research.google.com/github/superlui04/SLDdatanalyticscertification/blob/main/Introduction_to_Python_Rakhi.ipynb\" target=\"_parent\"><img src=\"https://colab.research.google.com/assets/colab-badge.svg\" alt=\"Open In Colab\"/></a>"
      ]
    },
    {
      "cell_type": "markdown",
      "metadata": {
        "id": "9LwwOyCqVFRw"
      },
      "source": [
        "# Introduction to Python programming"
      ]
    },
    {
      "cell_type": "markdown",
      "metadata": {
        "id": "v1H14IHtibMe"
      },
      "source": [
        "**PLEASE DO NOT MODIFY THIS NOTEBOOK**\n",
        "\n",
        "See the instructions below on how to make your own copy"
      ]
    },
    {
      "cell_type": "markdown",
      "metadata": {
        "id": "VeAxJ7iCELqD"
      },
      "source": [
        "## 0. How to use Colab"
      ]
    },
    {
      "cell_type": "markdown",
      "metadata": {
        "id": "SMJtkoe7ELqH"
      },
      "source": [
        "### 0.1. Make a Copy\n",
        "\n",
        "- You will not be able to edit this notebook directly, instead you will need to edit your own copy.\n",
        "- Click: **File** -> **Save a copy in Drive**\n",
        "- Follow the prompts to open \"Copy of 01 - Introduction-to-Python.ipynb\"\n",
        "- Save a bookmark of your notebook so you can find it later (these are the exercises you will use during the workshop).\n",
        "\n",
        "![copy to drive](https://i.imgur.com/LQQxu9wl.png)"
      ]
    },
    {
      "cell_type": "markdown",
      "metadata": {
        "id": "tMORERwwFKfa"
      },
      "source": [
        "### 0.2. Cells\n",
        "\n",
        "- The grey blocks of code are called cells. \n",
        "- You can edit cells by clicking on them and typing\n",
        "- You can run a cell by hovering over the cell and clicking the play button, or using the cmd/ctrl + Enter keyboard shortcut\n",
        "- When you run a cell, the code in the cell can change the state of your notebook session. \n",
        "- Cells can depend on things that are defined in other cells, so the order that you run the cells in is important.\n",
        "- When you run a cell, it will print the result of the last line in the cell.\n",
        "- As you go through these exercises, try to guess what the output of each cell is going to be before running it.\n",
        "- The first time you run a cell, it might take a few seconds to start working, that's normal\n",
        "\n",
        "![alt text](https://i.imgur.com/H4xTmyp.png)"
      ]
    },
    {
      "cell_type": "code",
      "source": [
        "print(\"hello world\")"
      ],
      "metadata": {
        "colab": {
          "base_uri": "https://localhost:8080/"
        },
        "id": "BVfEo-i9gvxe",
        "outputId": "2578c4a5-4450-4cc9-f62c-dba26419fc04"
      },
      "execution_count": 1,
      "outputs": [
        {
          "output_type": "stream",
          "name": "stdout",
          "text": [
            "hello world\n"
          ]
        }
      ]
    },
    {
      "cell_type": "markdown",
      "source": [
        "print(\"hello world\")"
      ],
      "metadata": {
        "id": "6i2b9-3WgzLg"
      }
    },
    {
      "cell_type": "markdown",
      "metadata": {
        "id": "XKY8y0N0VFR3"
      },
      "source": [
        "## 1. Variables and Fundamental Types\n",
        "\n",
        "A variable is a convenient way of having Python store something for you. You can give variables names, then use these variables later on in your program.\n",
        "\n",
        "You can think of variables as \"pointing to\" a value\n",
        "\n",
        "![alt text](https://lh6.googleusercontent.com/rw-uGPI_qR_8Ibn63sIXng5p-1BHX_KIuJvXB6iw9nN9J2w77R8R3F4ZCATOH15lLiWmMvAQOuBqB743o6EDLrQiEgNPR4nBeFrH5xmos2GzVdJ0__oNi57ydCIkfhJHFmQi4mG21oU)\n",
        "\n",
        "Another way to think about it is that variables are a box that can hold information for you.\n",
        "\n",
        "![alt text](https://lh6.googleusercontent.com/l03i44kUiA_HU-xe6aNpitEx0rpuQPJG7kYU4_SHdzy6o79lwIXYyQ80HhtYxXvmLBhaiokgywA0bzaTmuT3q1Ea4XnJ7Mdf0mrX8GroHAFPbtPvNBeAa5LjZZOrmeL2xVgVMOA9QCs)\n",
        "\n",
        "**Rules**\n",
        "\n",
        "variables:\n",
        "- start with a letter (a-z)\n",
        "- can contain numbers (but not at the start)\n",
        "- typically should be `snake_case`, which means they:\n",
        "  - are all lower case\n",
        "  - `have_underscores_between_words`\n",
        "\n",
        "**Suggestions**\n",
        "\n",
        "- more than 3 characters long\n",
        "- use meaningful names\n",
        "- avoid acronyms or abbreviations that aren't obvious"
      ]
    },
    {
      "cell_type": "markdown",
      "metadata": {
        "id": "3BMwjhIFVFR6"
      },
      "source": [
        "### 1.1. Variable Assignment\n",
        "\n",
        "When you want python to store a value for you under a given name, you use the `=` symbol to give value on the right to the variable on the left. We call this variable assignment. \n",
        "\n",
        "\n"
      ]
    },
    {
      "cell_type": "code",
      "metadata": {
        "id": "ShiC7OE1VFR7"
      },
      "source": [
        "name = \"Maria\"\n",
        "eggs = 15\n",
        "candies = 10"
      ],
      "execution_count": 2,
      "outputs": []
    },
    {
      "cell_type": "markdown",
      "metadata": {
        "id": "kLR44oF7ouEG"
      },
      "source": [
        "You can even assign variables to other variables"
      ]
    },
    {
      "cell_type": "code",
      "metadata": {
        "id": "8fpC5BEyoxRs"
      },
      "source": [
        "my_variable = name\n"
      ],
      "execution_count": 3,
      "outputs": []
    },
    {
      "cell_type": "code",
      "source": [
        "my_variable"
      ],
      "metadata": {
        "colab": {
          "base_uri": "https://localhost:8080/",
          "height": 36
        },
        "id": "WdaYPDmmONzR",
        "outputId": "c96f6770-549f-4d7a-a837-6bfe83d3227a"
      },
      "execution_count": 4,
      "outputs": [
        {
          "output_type": "execute_result",
          "data": {
            "text/plain": [
              "'Maria'"
            ],
            "application/vnd.google.colaboratory.intrinsic+json": {
              "type": "string"
            }
          },
          "metadata": {},
          "execution_count": 4
        }
      ]
    },
    {
      "cell_type": "code",
      "source": [
        "# Do not use any keyword for variable names\n",
        "\n",
        "def = 1\n"
      ],
      "metadata": {
        "id": "7sse7478G4xE",
        "colab": {
          "base_uri": "https://localhost:8080/",
          "height": 130
        },
        "outputId": "5d4997b8-6091-4af1-dc80-19e8cada7edd"
      },
      "execution_count": 5,
      "outputs": [
        {
          "output_type": "error",
          "ename": "SyntaxError",
          "evalue": "ignored",
          "traceback": [
            "\u001b[0;36m  File \u001b[0;32m\"<ipython-input-5-f4aef6a7705d>\"\u001b[0;36m, line \u001b[0;32m3\u001b[0m\n\u001b[0;31m    def = 1\u001b[0m\n\u001b[0m        ^\u001b[0m\n\u001b[0;31mSyntaxError\u001b[0m\u001b[0;31m:\u001b[0m invalid syntax\n"
          ]
        }
      ]
    },
    {
      "cell_type": "code",
      "source": [
        "#Variable Name - Start with an alphabet or an underscore\n",
        "\n",
        "12name = 'SLD'\n",
        "\n",
        "\n",
        "\n",
        "name = 'SLD'\n",
        "_name = 'SLD'\n"
      ],
      "metadata": {
        "id": "fHRDgC0sHG8g",
        "colab": {
          "base_uri": "https://localhost:8080/",
          "height": 130
        },
        "outputId": "2be5c2ed-73c8-4518-aa16-1cc03294b6df"
      },
      "execution_count": 6,
      "outputs": [
        {
          "output_type": "error",
          "ename": "SyntaxError",
          "evalue": "ignored",
          "traceback": [
            "\u001b[0;36m  File \u001b[0;32m\"<ipython-input-6-b0e946dfe85c>\"\u001b[0;36m, line \u001b[0;32m3\u001b[0m\n\u001b[0;31m    12name = 'SLD'\u001b[0m\n\u001b[0m     ^\u001b[0m\n\u001b[0;31mSyntaxError\u001b[0m\u001b[0;31m:\u001b[0m invalid decimal literal\n"
          ]
        }
      ]
    },
    {
      "cell_type": "code",
      "source": [
        "-name = 'SLD'"
      ],
      "metadata": {
        "id": "068v7JfiHepP",
        "colab": {
          "base_uri": "https://localhost:8080/",
          "height": 130
        },
        "outputId": "96415513-1a3c-45ec-f657-db0f2561c937"
      },
      "execution_count": 7,
      "outputs": [
        {
          "output_type": "error",
          "ename": "SyntaxError",
          "evalue": "ignored",
          "traceback": [
            "\u001b[0;36m  File \u001b[0;32m\"<ipython-input-7-9d003307fab7>\"\u001b[0;36m, line \u001b[0;32m1\u001b[0m\n\u001b[0;31m    -name = 'SLD'\u001b[0m\n\u001b[0m    ^\u001b[0m\n\u001b[0;31mSyntaxError\u001b[0m\u001b[0;31m:\u001b[0m cannot assign to expression here. Maybe you meant '==' instead of '='?\n"
          ]
        }
      ]
    },
    {
      "cell_type": "code",
      "source": [
        "my_variable"
      ],
      "metadata": {
        "colab": {
          "base_uri": "https://localhost:8080/",
          "height": 36
        },
        "id": "OXDuc1bzfFBn",
        "outputId": "b2e27f90-de5e-4af7-c446-f91de7029748"
      },
      "execution_count": 8,
      "outputs": [
        {
          "output_type": "execute_result",
          "data": {
            "text/plain": [
              "'Maria'"
            ],
            "application/vnd.google.colaboratory.intrinsic+json": {
              "type": "string"
            }
          },
          "metadata": {},
          "execution_count": 8
        }
      ]
    },
    {
      "cell_type": "markdown",
      "metadata": {
        "id": "yx-KKNtwcsdr"
      },
      "source": [
        "### 1.2. Using Variables\n",
        "\n",
        "Now lets do something useful with these varables. We can use the `print()` function to print anything inside the brackets (parentheses)"
      ]
    },
    {
      "cell_type": "code",
      "metadata": {
        "id": "pAuggWoucy_C",
        "colab": {
          "base_uri": "https://localhost:8080/"
        },
        "outputId": "f674467a-7c55-44b7-842d-867e94977db6"
      },
      "source": [
        "print(eggs)\n",
        "print(candies)\n",
        "print(name)"
      ],
      "execution_count": 9,
      "outputs": [
        {
          "output_type": "stream",
          "name": "stdout",
          "text": [
            "15\n",
            "10\n",
            "Maria\n"
          ]
        }
      ]
    },
    {
      "cell_type": "markdown",
      "metadata": {
        "id": "-mIocpviVFR9"
      },
      "source": [
        "### 1.3. Multiple Assignments\n",
        "\n",
        "You can make your code shorter by assigning multiple variables on a single line. Here's an example of some code that could be shortened."
      ]
    },
    {
      "cell_type": "code",
      "metadata": {
        "id": "BlIq3yCwpln3",
        "colab": {
          "base_uri": "https://localhost:8080/"
        },
        "outputId": "463248c0-84b9-410c-c3f7-279921557c23"
      },
      "source": [
        "red = 5\n",
        "green = 3.2\n",
        "blue = 7\n",
        "print(red, green, blue)"
      ],
      "execution_count": null,
      "outputs": [
        {
          "output_type": "stream",
          "name": "stdout",
          "text": [
            "5 3.2 7\n"
          ]
        }
      ]
    },
    {
      "cell_type": "markdown",
      "metadata": {
        "id": "xRSOd8LDpfPT"
      },
      "source": [
        "The exact same code can be written as a single statement like this:"
      ]
    },
    {
      "cell_type": "code",
      "metadata": {
        "id": "Y6_zbZqRVFR-",
        "colab": {
          "base_uri": "https://localhost:8080/"
        },
        "outputId": "6332e14f-4fd2-43c6-9708-944c9eb1c6b6"
      },
      "source": [
        "red, green, blue = 5, 3.2, 7\n",
        "print(red, green, blue)"
      ],
      "execution_count": 10,
      "outputs": [
        {
          "output_type": "stream",
          "name": "stdout",
          "text": [
            "5 3.2 7\n"
          ]
        }
      ]
    },
    {
      "cell_type": "markdown",
      "metadata": {
        "id": "UBOwxxV1djEC"
      },
      "source": [
        "### 1.4. Exercise \n",
        "\n",
        "Use the code block below to assign your favourite colour to a variable called `best_colour`. If your favourite colour is `\"brown\"`, your code might look like this:\n",
        "\n",
        "```\n",
        "best_colour = \"brown\"\n",
        "```"
      ]
    },
    {
      "cell_type": "code",
      "metadata": {
        "id": "yT39SPo0q0L4"
      },
      "source": [
        "best_colour = \"pink\"  # replace the ... with your favourite colour"
      ],
      "execution_count": 12,
      "outputs": []
    },
    {
      "cell_type": "markdown",
      "metadata": {
        "id": "pA4PtJQNrLvG"
      },
      "source": [
        "When you've run your code, the next cell will let everyone know that your favourite colour is the best colour."
      ]
    },
    {
      "cell_type": "code",
      "metadata": {
        "id": "ilB9lg1VeUGo",
        "colab": {
          "base_uri": "https://localhost:8080/"
        },
        "outputId": "180315ea-a866-4a62-bd6b-c18ead4ab7f7"
      },
      "source": [
        "print(\"the best colour is \" + best_colour)"
      ],
      "execution_count": 13,
      "outputs": [
        {
          "output_type": "stream",
          "name": "stdout",
          "text": [
            "the best colour is pink\n"
          ]
        }
      ]
    },
    {
      "cell_type": "markdown",
      "metadata": {
        "id": "U_BWqCQ5VFSA"
      },
      "source": [
        "### 1.5. Fundamental Types \n",
        "Although sometimes it is not mentioned in the code, all variables have a type associated with them. The type is derived from the value that was assigned to it. \n",
        "\n",
        "We can use the `type` function to ask Python what the type of a variable is. \n",
        "\n",
        "There are several types in Python that are a fundamental part of the language. Below is an example of what happens when we use `type` on variables that contain different fundamental types."
      ]
    },
    {
      "cell_type": "markdown",
      "metadata": {
        "id": "aTqy6Ml9pPw9"
      },
      "source": [
        "A **`bool`** (boolean) is a value that can only be `True` or `False`, nothing else. \n",
        "\n",
        "This is similar to how a light bulb can only be on or off.\n",
        "\n",
        "![image.png](data:image/png;base64,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)"
      ]
    },
    {
      "cell_type": "code",
      "metadata": {
        "id": "Mi-Nl1Q6VFSA",
        "colab": {
          "base_uri": "https://localhost:8080/"
        },
        "outputId": "44510b69-f248-49db-b0c3-ca68eb4b5ee1"
      },
      "source": [
        "Black = True\n",
        "White = False\n",
        "print(type(Black))\n",
        "print(type(White))"
      ],
      "execution_count": 14,
      "outputs": [
        {
          "output_type": "stream",
          "name": "stdout",
          "text": [
            "<class 'bool'>\n",
            "<class 'bool'>\n"
          ]
        }
      ]
    },
    {
      "cell_type": "markdown",
      "metadata": {
        "id": "7QFMOmdjswmn"
      },
      "source": [
        "an **`int`** (integer) is a whole number"
      ]
    },
    {
      "cell_type": "code",
      "metadata": {
        "id": "RPIZIyItsCHq",
        "colab": {
          "base_uri": "https://localhost:8080/"
        },
        "outputId": "72e585a6-dff7-4e2d-bc3b-6efe112fe60d"
      },
      "source": [
        "bananas = 8\n",
        "type(bananas)"
      ],
      "execution_count": 15,
      "outputs": [
        {
          "output_type": "execute_result",
          "data": {
            "text/plain": [
              "int"
            ]
          },
          "metadata": {},
          "execution_count": 15
        }
      ]
    },
    {
      "cell_type": "markdown",
      "metadata": {
        "id": "CV_O68yas4j2"
      },
      "source": [
        "a **`float`** (floating point) is a number that isn't a whole number "
      ]
    },
    {
      "cell_type": "code",
      "metadata": {
        "id": "xuUawxQQsGrw",
        "colab": {
          "base_uri": "https://localhost:8080/"
        },
        "outputId": "c435c792-5a6c-456c-e0d6-263796c650d7"
      },
      "source": [
        "apples = -1.5\n",
        "type(apples)"
      ],
      "execution_count": 16,
      "outputs": [
        {
          "output_type": "execute_result",
          "data": {
            "text/plain": [
              "float"
            ]
          },
          "metadata": {},
          "execution_count": 16
        }
      ]
    },
    {
      "cell_type": "markdown",
      "metadata": {
        "id": "vYjUwQIVzkRs"
      },
      "source": [
        "If you're writing down a really big number, you might group digits together in groups of three with commas. Instead of commas, python uses underscores."
      ]
    },
    {
      "cell_type": "code",
      "metadata": {
        "id": "QAGoaviOz_qd",
        "colab": {
          "base_uri": "https://localhost:8080/"
        },
        "outputId": "312ca039-a6dc-4605-92c9-fddc455009a1"
      },
      "source": [
        "elephant = 1_432_391_323  # this is the same as 1,432,391,323\n",
        "type(elephant)"
      ],
      "execution_count": 17,
      "outputs": [
        {
          "output_type": "execute_result",
          "data": {
            "text/plain": [
              "int"
            ]
          },
          "metadata": {},
          "execution_count": 17
        }
      ]
    },
    {
      "cell_type": "markdown",
      "metadata": {
        "id": "CMMnlY5QVFSC"
      },
      "source": [
        "### 1.6. Re-Assigning Variables\n",
        "\n",
        "If we assign a new value to a variable, its type is allowed to change. In this example, `beans` has the type boolean, but when we re-assign (or overwrite) `beans` with a new value, it doesn't have to be of the same type"
      ]
    },
    {
      "cell_type": "code",
      "metadata": {
        "id": "B6jlKqcwVFSD",
        "colab": {
          "base_uri": "https://localhost:8080/"
        },
        "outputId": "85132d69-474a-4bca-8590-a92451eb872a"
      },
      "source": [
        "beans = True\n",
        "print(type(beans))"
      ],
      "execution_count": 18,
      "outputs": [
        {
          "output_type": "stream",
          "name": "stdout",
          "text": [
            "<class 'bool'>\n"
          ]
        }
      ]
    },
    {
      "cell_type": "code",
      "source": [
        "beans = 1.2\n",
        "print(type(beans))"
      ],
      "metadata": {
        "colab": {
          "base_uri": "https://localhost:8080/"
        },
        "id": "xEjgrXYef6cc",
        "outputId": "15d025ca-3965-42d8-ca9d-6a954f42d742"
      },
      "execution_count": 19,
      "outputs": [
        {
          "output_type": "stream",
          "name": "stdout",
          "text": [
            "<class 'float'>\n"
          ]
        }
      ]
    },
    {
      "cell_type": "markdown",
      "metadata": {
        "id": "IlRZU7jYVFSF"
      },
      "source": [
        "### 1.7. Undefined Variables\n",
        "If we try to use a variable that has not yet been defined we get an `NameError`:"
      ]
    },
    {
      "cell_type": "code",
      "metadata": {
        "id": "y7oisvRWVFSF",
        "colab": {
          "base_uri": "https://localhost:8080/",
          "height": 165
        },
        "outputId": "0decc84f-6371-4214-d884-cdbda96d7a95"
      },
      "source": [
        "print(i_dont_exist_yet)"
      ],
      "execution_count": 20,
      "outputs": [
        {
          "output_type": "error",
          "ename": "NameError",
          "evalue": "ignored",
          "traceback": [
            "\u001b[0;31m---------------------------------------------------------------------------\u001b[0m",
            "\u001b[0;31mNameError\u001b[0m                                 Traceback (most recent call last)",
            "\u001b[0;32m<ipython-input-20-f493b893e742>\u001b[0m in \u001b[0;36m<cell line: 1>\u001b[0;34m()\u001b[0m\n\u001b[0;32m----> 1\u001b[0;31m \u001b[0mprint\u001b[0m\u001b[0;34m(\u001b[0m\u001b[0mi_dont_exist_yet\u001b[0m\u001b[0;34m)\u001b[0m\u001b[0;34m\u001b[0m\u001b[0;34m\u001b[0m\u001b[0m\n\u001b[0m",
            "\u001b[0;31mNameError\u001b[0m: name 'i_dont_exist_yet' is not defined"
          ]
        }
      ]
    },
    {
      "cell_type": "markdown",
      "metadata": {
        "id": "BKJenHyuVFSN"
      },
      "source": [
        "### 1.8. Type Checking"
      ]
    },
    {
      "cell_type": "markdown",
      "metadata": {
        "id": "2YOlO1ySvUKa"
      },
      "source": [
        "if we want to perform a check on whether a variable is a type, we can use the `is` keyword. `type(variable) is some_type` will return `True` or `False` depending on whether the variable matches the type"
      ]
    },
    {
      "cell_type": "code",
      "metadata": {
        "id": "jyBbYm0RVFSN",
        "colab": {
          "base_uri": "https://localhost:8080/"
        },
        "outputId": "4855151c-b3e6-4a50-e1d1-f90ec947b487"
      },
      "source": [
        "orange = 1.0\n",
        "\n",
        "# check if the variable x is a float\n",
        "type(orange) is float"
      ],
      "execution_count": 21,
      "outputs": [
        {
          "output_type": "execute_result",
          "data": {
            "text/plain": [
              "True"
            ]
          },
          "metadata": {},
          "execution_count": 21
        }
      ]
    },
    {
      "cell_type": "code",
      "metadata": {
        "id": "n6y6sZPzVFSO",
        "colab": {
          "base_uri": "https://localhost:8080/"
        },
        "outputId": "3cfe7a26-2d17-457f-9a99-cf81922c888d"
      },
      "source": [
        "# check if the variable x is an int\n",
        "type(orange) is int"
      ],
      "execution_count": 22,
      "outputs": [
        {
          "output_type": "execute_result",
          "data": {
            "text/plain": [
              "False"
            ]
          },
          "metadata": {},
          "execution_count": 22
        }
      ]
    },
    {
      "cell_type": "markdown",
      "metadata": {
        "id": "prtKB8WTVFSZ"
      },
      "source": [
        "## 2. Operators\n",
        "\n",
        "Operators take in arguments and return results. Some of the operators we're going to talk about in this section are just symbols placed between two arguments and perform some kind of calculation on those arguments. Most operators and comparisons in Python work as one would expect.\n",
        "\n"
      ]
    },
    {
      "cell_type": "markdown",
      "metadata": {
        "id": "HGBxIsdAVFSZ"
      },
      "source": [
        "\n",
        "\n",
        "### 2.1. Arithmetic operators\n",
        "\n",
        "These are:\n",
        "\n",
        "|Operator|What it means|\n",
        "|--- |--- |\n",
        "| `+` | Addition|\n",
        "| `-` | Subtraction|\n",
        "| `*` | Multiplication|\n",
        "| `%` | Modulus |\n",
        "| `/` | Division|\n",
        "| `//` | Integer division|\n",
        "| `**` | Exponent |\n",
        "\n",
        "Here are some examples of operators in use for integers (e.g. 1) and floats (e.g. 1.0)."
      ]
    },
    {
      "cell_type": "code",
      "metadata": {
        "id": "XqvRFyrnVFSZ",
        "colab": {
          "base_uri": "https://localhost:8080/"
        },
        "outputId": "accc64ef-a6a1-4038-e4ff-8f865f111d7a"
      },
      "source": [
        "1 + 2"
      ],
      "execution_count": 23,
      "outputs": [
        {
          "output_type": "execute_result",
          "data": {
            "text/plain": [
              "3"
            ]
          },
          "metadata": {},
          "execution_count": 23
        }
      ]
    },
    {
      "cell_type": "code",
      "metadata": {
        "id": "TGhOzvoH0INn",
        "colab": {
          "base_uri": "https://localhost:8080/"
        },
        "outputId": "09bb8c1a-ccd9-425e-b608-add37d842863"
      },
      "source": [
        "1 - 2"
      ],
      "execution_count": 24,
      "outputs": [
        {
          "output_type": "execute_result",
          "data": {
            "text/plain": [
              "-1"
            ]
          },
          "metadata": {},
          "execution_count": 24
        }
      ]
    },
    {
      "cell_type": "code",
      "metadata": {
        "id": "AcxSUkiY0Jvl",
        "colab": {
          "base_uri": "https://localhost:8080/"
        },
        "outputId": "be81470d-9545-4887-88c9-5771ca120f7a"
      },
      "source": [
        "1 * 2"
      ],
      "execution_count": 25,
      "outputs": [
        {
          "output_type": "execute_result",
          "data": {
            "text/plain": [
              "2"
            ]
          },
          "metadata": {},
          "execution_count": 25
        }
      ]
    },
    {
      "cell_type": "code",
      "metadata": {
        "id": "OQz0icAW0K2L",
        "colab": {
          "base_uri": "https://localhost:8080/"
        },
        "outputId": "7b3e00b1-3172-4bde-b7a2-32c477c30285"
      },
      "source": [
        "1 / 2"
      ],
      "execution_count": 26,
      "outputs": [
        {
          "output_type": "execute_result",
          "data": {
            "text/plain": [
              "0.5"
            ]
          },
          "metadata": {},
          "execution_count": 26
        }
      ]
    },
    {
      "cell_type": "code",
      "metadata": {
        "id": "vOvUhzeUVFSa",
        "colab": {
          "base_uri": "https://localhost:8080/"
        },
        "outputId": "637a7b53-dced-46d5-cef3-5b3f44146bb0"
      },
      "source": [
        "1.0 + 2.0"
      ],
      "execution_count": 27,
      "outputs": [
        {
          "output_type": "execute_result",
          "data": {
            "text/plain": [
              "3.0"
            ]
          },
          "metadata": {},
          "execution_count": 27
        }
      ]
    },
    {
      "cell_type": "code",
      "metadata": {
        "id": "riUL_EEr0NVm",
        "colab": {
          "base_uri": "https://localhost:8080/"
        },
        "outputId": "844c34aa-4f70-485c-e695-5b97d6cf17a2"
      },
      "source": [
        "1.0 - 2.0"
      ],
      "execution_count": 28,
      "outputs": [
        {
          "output_type": "execute_result",
          "data": {
            "text/plain": [
              "-1.0"
            ]
          },
          "metadata": {},
          "execution_count": 28
        }
      ]
    },
    {
      "cell_type": "code",
      "metadata": {
        "id": "au4McVhV0OuU",
        "colab": {
          "base_uri": "https://localhost:8080/"
        },
        "outputId": "52008c1b-b259-4b7f-8f8a-8fdadb90d10a"
      },
      "source": [
        "1.0 * 2.0"
      ],
      "execution_count": 29,
      "outputs": [
        {
          "output_type": "execute_result",
          "data": {
            "text/plain": [
              "2.0"
            ]
          },
          "metadata": {},
          "execution_count": 29
        }
      ]
    },
    {
      "cell_type": "code",
      "metadata": {
        "id": "zcmUFaBG0Qpo",
        "colab": {
          "base_uri": "https://localhost:8080/"
        },
        "outputId": "2abec4e4-b276-4630-aa4b-2fcc803f13f3"
      },
      "source": [
        "1.0 / 2.0"
      ],
      "execution_count": 30,
      "outputs": [
        {
          "output_type": "execute_result",
          "data": {
            "text/plain": [
              "0.5"
            ]
          },
          "metadata": {},
          "execution_count": 30
        }
      ]
    },
    {
      "cell_type": "markdown",
      "metadata": {
        "id": "P9WfJdRJw3P9"
      },
      "source": [
        "Notice any difference between the integer (whole number) calculations and the float (not whole number) calculations?\n",
        "\n",
        "Integer division, `//` is just like regular division, but it rounds down to the nearest whole number:"
      ]
    },
    {
      "cell_type": "code",
      "metadata": {
        "id": "Ck1WqE6VVFSb",
        "colab": {
          "base_uri": "https://localhost:8080/"
        },
        "outputId": "00c90f60-2eaf-488b-d473-856dad60dc86"
      },
      "source": [
        "5.0/2.0, 5.0//2.0"
      ],
      "execution_count": 31,
      "outputs": [
        {
          "output_type": "execute_result",
          "data": {
            "text/plain": [
              "(2.5, 2.0)"
            ]
          },
          "metadata": {},
          "execution_count": 31
        }
      ]
    },
    {
      "cell_type": "markdown",
      "metadata": {
        "id": "iNEmqbYpxB2f"
      },
      "source": [
        "The exponent (power) operator, `**` raises the left argument to the power of the right argument. So three squared can be written like so:"
      ]
    },
    {
      "cell_type": "code",
      "metadata": {
        "id": "muGs1KMuVFSc",
        "colab": {
          "base_uri": "https://localhost:8080/"
        },
        "outputId": "effb3af6-5424-4eef-dec5-559341d13b47"
      },
      "source": [
        "# Note! The exponent (power) operator in python isn't ^, but **\n",
        "3 ** 2"
      ],
      "execution_count": 32,
      "outputs": [
        {
          "output_type": "execute_result",
          "data": {
            "text/plain": [
              "9"
            ]
          },
          "metadata": {},
          "execution_count": 32
        }
      ]
    },
    {
      "cell_type": "markdown",
      "metadata": {
        "id": "P8zAeLFWxf22"
      },
      "source": [
        "The modulo operator `%` gives you the remainder after dividing the left argument by the right argument. \n",
        "\n",
        "For example, 7 divided by 2 is 3, remainder 1, this can be written as"
      ]
    },
    {
      "cell_type": "markdown",
      "metadata": {
        "id": "vkrESCULVFSg"
      },
      "source": [
        "### 2.2. **Further Reading** Comparison Operators\n",
        "\n",
        "These operators take two arguments and compare them against each other. depending on the arguments, they return `True` or `False`\n",
        "\n",
        "|Operator|What it means|\n",
        "|--- |--- |\n",
        "|`==`|Equal to|\n",
        "|`!=`|Not equal to|\n",
        "|`is`|Identical to|\n",
        "|`<`|Less than|\n",
        "|`>`|Greater than|\n",
        "|`<=`|Less than or equal to|\n",
        "|`>=`|Greater than or equal to|"
      ]
    },
    {
      "cell_type": "code",
      "metadata": {
        "id": "8XL1X-nnVFSg",
        "colab": {
          "base_uri": "https://localhost:8080/"
        },
        "outputId": "87ad5314-e3b0-49c0-b551-e8487ffbc00b"
      },
      "source": [
        "2.is(1)"
      ],
      "execution_count": 33,
      "outputs": [
        {
          "output_type": "stream",
          "name": "stderr",
          "text": [
            "<>:1: SyntaxWarning: \"is\" with a literal. Did you mean \"==\"?\n",
            "<>:1: SyntaxWarning: \"is\" with a literal. Did you mean \"==\"?\n",
            "<ipython-input-33-dcef5b9ef5c5>:1: SyntaxWarning: \"is\" with a literal. Did you mean \"==\"?\n",
            "  2.is(1)\n"
          ]
        },
        {
          "output_type": "execute_result",
          "data": {
            "text/plain": [
              "False"
            ]
          },
          "metadata": {},
          "execution_count": 33
        }
      ]
    },
    {
      "cell_type": "code",
      "metadata": {
        "id": "4rDnyzoGVFSh",
        "colab": {
          "base_uri": "https://localhost:8080/"
        },
        "outputId": "c091d2d7-aeac-4213-8f62-e69410a04b1d"
      },
      "source": [
        "\"python\" == \"snake\""
      ],
      "execution_count": 34,
      "outputs": [
        {
          "output_type": "execute_result",
          "data": {
            "text/plain": [
              "False"
            ]
          },
          "metadata": {},
          "execution_count": 34
        }
      ]
    },
    {
      "cell_type": "code",
      "metadata": {
        "id": "-KB8cmfvVFSh",
        "colab": {
          "base_uri": "https://localhost:8080/"
        },
        "outputId": "0dbd2cb3-7f30-4cf0-a2e2-49cf73c5dd22"
      },
      "source": [
        "[1, 2, 3] != [4, 5, 6]"
      ],
      "execution_count": 35,
      "outputs": [
        {
          "output_type": "execute_result",
          "data": {
            "text/plain": [
              "True"
            ]
          },
          "metadata": {},
          "execution_count": 35
        }
      ]
    },
    {
      "cell_type": "markdown",
      "metadata": {
        "id": "ZaKce4WyEEN2"
      },
      "source": [
        "####4.2.1 Exercise\n"
      ]
    },
    {
      "cell_type": "code",
      "metadata": {
        "id": "iHK5SB1v8loS",
        "colab": {
          "base_uri": "https://localhost:8080/"
        },
        "outputId": "5b09bd85-da72-4e56-e1d5-110458288220"
      },
      "source": [
        "india_pop = 1353000000\n",
        "china_pop = 1393000000\n",
        "\n",
        "# Use comparison operators to determine if the population of China is larger than or equal to India's population...\n",
        "india_pop >= india_pop"
      ],
      "execution_count": 36,
      "outputs": [
        {
          "output_type": "execute_result",
          "data": {
            "text/plain": [
              "True"
            ]
          },
          "metadata": {},
          "execution_count": 36
        }
      ]
    },
    {
      "cell_type": "code",
      "metadata": {
        "id": "mOqnDXNFMt37"
      },
      "source": [
        "## Try different options here..."
      ],
      "execution_count": 37,
      "outputs": []
    },
    {
      "cell_type": "code",
      "metadata": {
        "id": "adZ8CunKx6ll",
        "colab": {
          "base_uri": "https://localhost:8080/"
        },
        "outputId": "bb944de6-22af-431d-ebf3-67863fa11b5a"
      },
      "source": [
        "7//2, 7%2"
      ],
      "execution_count": 38,
      "outputs": [
        {
          "output_type": "execute_result",
          "data": {
            "text/plain": [
              "(3, 1)"
            ]
          },
          "metadata": {},
          "execution_count": 38
        }
      ]
    },
    {
      "cell_type": "markdown",
      "metadata": {
        "id": "qx0rpDgyVFSk"
      },
      "source": [
        "## 3. Compound Types\n",
        "\n",
        "These types are a little bit more different than fundamental types because they can \"contain\" other types. The most common ones are **strings**, **lists** and **dictionaries**."
      ]
    },
    {
      "cell_type": "markdown",
      "metadata": {
        "id": "fUumQOnfVFSk"
      },
      "source": [
        "### 3.1. Strings"
      ]
    },
    {
      "cell_type": "markdown",
      "metadata": {
        "id": "c2KJDSq5VFSk"
      },
      "source": [
        "Strings are the variable type that is used for storing pieces of text. "
      ]
    },
    {
      "cell_type": "code",
      "metadata": {
        "id": "AcxA8-toVFSk",
        "colab": {
          "base_uri": "https://localhost:8080/"
        },
        "outputId": "7893a217-429a-4adb-de45-56fe2b904e10"
      },
      "source": [
        "my_first_string = \"Hello SheLovesData Community\"\n",
        "type(my_first_string)"
      ],
      "execution_count": null,
      "outputs": [
        {
          "output_type": "execute_result",
          "data": {
            "text/plain": [
              "str"
            ]
          },
          "metadata": {},
          "execution_count": 39
        }
      ]
    },
    {
      "cell_type": "markdown",
      "metadata": {
        "id": "EwgPamMd2zMC"
      },
      "source": [
        "You can get the length of a string (the number of characters) with the `len` function"
      ]
    },
    {
      "cell_type": "code",
      "metadata": {
        "id": "PA1MPDcSVFSl",
        "colab": {
          "base_uri": "https://localhost:8080/"
        },
        "outputId": "2b66940a-1c04-4093-bcc9-8a845003d294"
      },
      "source": [
        "len(my_first_string)"
      ],
      "execution_count": null,
      "outputs": [
        {
          "output_type": "execute_result",
          "data": {
            "text/plain": [
              "28"
            ]
          },
          "metadata": {},
          "execution_count": 40
        }
      ]
    },
    {
      "cell_type": "markdown",
      "metadata": {
        "id": "L1zkA0a027uk"
      },
      "source": [
        "You can use the `.replace(old, new)` function to return a new string where all of the instances of `old` have been replaced with `new`"
      ]
    },
    {
      "cell_type": "code",
      "metadata": {
        "id": "Z09__L7UVFSm",
        "colab": {
          "base_uri": "https://localhost:8080/",
          "height": 35
        },
        "outputId": "24933953-0669-4735-f82f-0b7b4b6972f1"
      },
      "source": [
        "my_first_string.replace(\"Community\", \"Tribe\")"
      ],
      "execution_count": null,
      "outputs": [
        {
          "output_type": "execute_result",
          "data": {
            "text/plain": [
              "'Hello SheLovesData Tribe'"
            ],
            "application/vnd.google.colaboratory.intrinsic+json": {
              "type": "string"
            }
          },
          "metadata": {},
          "execution_count": 43
        }
      ]
    },
    {
      "cell_type": "markdown",
      "metadata": {
        "id": "ZVAMZ4MwVFSm"
      },
      "source": [
        "You can think of strings as a list of characters. We can access these characters in a string using the index operator, `string[index]` where `index` is a number starting from 0.\n",
        "\n",
        "The following gets the first character of the string:"
      ]
    },
    {
      "cell_type": "code",
      "metadata": {
        "id": "RL7AVjwlVFSn",
        "colab": {
          "base_uri": "https://localhost:8080/",
          "height": 35
        },
        "outputId": "5678ac9d-1905-49ec-9192-0df06b9db223"
      },
      "source": [
        "my_first_string[0]"
      ],
      "execution_count": null,
      "outputs": [
        {
          "output_type": "execute_result",
          "data": {
            "text/plain": [
              "'H'"
            ],
            "application/vnd.google.colaboratory.intrinsic+json": {
              "type": "string"
            }
          },
          "metadata": {},
          "execution_count": 42
        }
      ]
    },
    {
      "cell_type": "markdown",
      "metadata": {
        "id": "kMx0-gxxVFSo"
      },
      "source": [
        "#### 3.1.1 **Further Reading:** String Slicing\n",
        "\n",
        "We can extract a part of a string using the syntax `[start:stop]`, which extracts characters between index `start` and `stop` -1 (the character at index `stop` is not included):"
      ]
    },
    {
      "cell_type": "code",
      "metadata": {
        "id": "FikgpaQkVFSo",
        "colab": {
          "base_uri": "https://localhost:8080/"
        },
        "outputId": "76630f0d-8543-4aac-8807-65779f2cff9a"
      },
      "source": [
        "shark[0:5]"
      ],
      "execution_count": null,
      "outputs": [
        {
          "output_type": "execute_result",
          "data": {
            "text/plain": [
              "'Hello'"
            ],
            "application/vnd.google.colaboratory.intrinsic+json": {
              "type": "string"
            }
          },
          "metadata": {},
          "execution_count": 25
        }
      ]
    },
    {
      "cell_type": "code",
      "metadata": {
        "id": "Z3pyWkl2VFSp",
        "colab": {
          "base_uri": "https://localhost:8080/"
        },
        "outputId": "ea9bc16b-1463-422d-d608-ddc1aac76a92"
      },
      "source": [
        "shark[4:5]"
      ],
      "execution_count": null,
      "outputs": [
        {
          "output_type": "execute_result",
          "data": {
            "text/plain": [
              "'o'"
            ],
            "application/vnd.google.colaboratory.intrinsic+json": {
              "type": "string"
            }
          },
          "metadata": {},
          "execution_count": 26
        }
      ]
    },
    {
      "cell_type": "markdown",
      "metadata": {
        "id": "YRMQBcKaVFSp"
      },
      "source": [
        "If we omit either (or both) of `start` or `stop` from `[start:stop]`, the default is the beginning and the end of the string, respectively:"
      ]
    },
    {
      "cell_type": "code",
      "metadata": {
        "id": "bVWmE5PUVFSq",
        "colab": {
          "base_uri": "https://localhost:8080/"
        },
        "outputId": "126c71e5-db0a-4de5-9505-b8bdcc33c719"
      },
      "source": [
        "shark[:5]"
      ],
      "execution_count": null,
      "outputs": [
        {
          "output_type": "execute_result",
          "data": {
            "text/plain": [
              "'Hello'"
            ],
            "application/vnd.google.colaboratory.intrinsic+json": {
              "type": "string"
            }
          },
          "metadata": {},
          "execution_count": 27
        }
      ]
    },
    {
      "cell_type": "code",
      "metadata": {
        "id": "eS9GIbaNVFSq",
        "colab": {
          "base_uri": "https://localhost:8080/"
        },
        "outputId": "319b8c57-52e7-4ee6-8443-bc4a2eacc66e"
      },
      "source": [
        "\n",
        "shark[6:]"
      ],
      "execution_count": null,
      "outputs": [
        {
          "output_type": "execute_result",
          "data": {
            "text/plain": [
              "'world'"
            ],
            "application/vnd.google.colaboratory.intrinsic+json": {
              "type": "string"
            }
          },
          "metadata": {},
          "execution_count": 28
        }
      ]
    },
    {
      "cell_type": "code",
      "metadata": {
        "id": "WA3n4TOyVFSr",
        "colab": {
          "base_uri": "https://localhost:8080/"
        },
        "outputId": "2d34f37f-b15a-44c3-9d2d-b0fa0ee318b7"
      },
      "source": [
        "shark[:]"
      ],
      "execution_count": null,
      "outputs": [
        {
          "output_type": "execute_result",
          "data": {
            "text/plain": [
              "'Hello world'"
            ],
            "application/vnd.google.colaboratory.intrinsic+json": {
              "type": "string"
            }
          },
          "metadata": {},
          "execution_count": 29
        }
      ]
    },
    {
      "cell_type": "markdown",
      "metadata": {
        "id": "utTZsoy-3dom"
      },
      "source": [
        "these indexes can even be negative. The following gets grabs everything except the last character in the string"
      ]
    },
    {
      "cell_type": "code",
      "metadata": {
        "id": "PJMrXm4X3lGc",
        "colab": {
          "base_uri": "https://localhost:8080/"
        },
        "outputId": "9c0d8556-0d9e-47a8-e3dd-94c102c21409"
      },
      "source": [
        "shark[:-1]"
      ],
      "execution_count": null,
      "outputs": [
        {
          "output_type": "execute_result",
          "data": {
            "text/plain": [
              "'Hello worl'"
            ],
            "application/vnd.google.colaboratory.intrinsic+json": {
              "type": "string"
            }
          },
          "metadata": {},
          "execution_count": 30
        }
      ]
    },
    {
      "cell_type": "markdown",
      "metadata": {
        "id": "2i5WFEtpVFSr"
      },
      "source": [
        "We can also define the step size using the syntax `[start:end:step]` (the default value for `step` is 1, as we saw above):"
      ]
    },
    {
      "cell_type": "code",
      "metadata": {
        "id": "Beaomi94VFSs",
        "colab": {
          "base_uri": "https://localhost:8080/"
        },
        "outputId": "4cf0db0b-0365-448e-9508-4a43e600f80f"
      },
      "source": [
        "shark[::1]"
      ],
      "execution_count": null,
      "outputs": [
        {
          "output_type": "execute_result",
          "data": {
            "text/plain": [
              "'Hello world'"
            ],
            "application/vnd.google.colaboratory.intrinsic+json": {
              "type": "string"
            }
          },
          "metadata": {},
          "execution_count": 31
        }
      ]
    },
    {
      "cell_type": "code",
      "metadata": {
        "id": "UGcxoEvkVFSs",
        "colab": {
          "base_uri": "https://localhost:8080/"
        },
        "outputId": "f6ad2232-c288-41f1-ca93-051192fe152e"
      },
      "source": [
        "shark[::2]"
      ],
      "execution_count": null,
      "outputs": [
        {
          "output_type": "execute_result",
          "data": {
            "text/plain": [
              "'Hlowrd'"
            ],
            "application/vnd.google.colaboratory.intrinsic+json": {
              "type": "string"
            }
          },
          "metadata": {},
          "execution_count": 32
        }
      ]
    },
    {
      "cell_type": "markdown",
      "metadata": {
        "id": "GDPsJaEWVFSt"
      },
      "source": [
        "This technique is called *slicing*. Read more about the syntax here: https://docs.python.org/3/library/functions.html#slice"
      ]
    },
    {
      "cell_type": "markdown",
      "metadata": {
        "id": "y7kE4ef9VFSt"
      },
      "source": [
        "Python has a very rich set of functions for text processing. See for example https://docs.python.org/3/library/string.html for more information."
      ]
    },
    {
      "cell_type": "markdown",
      "metadata": {
        "id": "kWVIhOynVFSt"
      },
      "source": [
        "#### 3.1.2. String Formatting\n",
        "\n",
        "You can print multiple strings with a single command, or add strings together (this is called concatenation)"
      ]
    },
    {
      "cell_type": "code",
      "metadata": {
        "id": "eosGg8BjVFSt",
        "colab": {
          "base_uri": "https://localhost:8080/"
        },
        "outputId": "1be214b4-1682-4fd6-c4d5-5a18068d1c51"
      },
      "source": [
        "print(\"She\", \"Loves\", \"Data\")  # The print statement concatenates strings with a space"
      ],
      "execution_count": null,
      "outputs": [
        {
          "output_type": "stream",
          "name": "stdout",
          "text": [
            "She Loves Data\n"
          ]
        }
      ]
    },
    {
      "cell_type": "code",
      "metadata": {
        "id": "btUb7kDqVFSv",
        "colab": {
          "base_uri": "https://localhost:8080/"
        },
        "outputId": "72b9daeb-a7ae-4f05-be51-529f1d5db5ef"
      },
      "source": [
        "print(\"She\" + \"Loves\" + \"Data\") # strings added with + are concatenated without space"
      ],
      "execution_count": null,
      "outputs": [
        {
          "output_type": "stream",
          "name": "stdout",
          "text": [
            "SheLovesData\n"
          ]
        }
      ]
    },
    {
      "cell_type": "markdown",
      "metadata": {
        "id": "KrtZlaZIVFSx"
      },
      "source": [
        "#### 3.1.3. **Further Reading:** String Interpolation (Format Strings)\n",
        "\n",
        "Python3.6 introduced a new string formatting mechanism known as *String Interpolation* or more commonly as *F-strings* (because of the `f` that appears at the front of the string, where F is short for format).\n",
        "\n",
        "In these strings, you can place Python code inside the curly braces, and it will insert the result of that code into the string."
      ]
    },
    {
      "cell_type": "code",
      "metadata": {
        "id": "D5V9NNPnVFSx",
        "colab": {
          "base_uri": "https://localhost:8080/"
        },
        "outputId": "4b349135-4b0e-48f6-a2fe-1669c74259bc"
      },
      "source": [
        "name = \"Eric\"\n",
        "old_points = 74\n",
        "new_points = 76\n",
        "\n",
        "print(f'Hello, {name}. You have gained {new_points - old_points} points since last time.')"
      ],
      "execution_count": null,
      "outputs": [
        {
          "output_type": "stream",
          "name": "stdout",
          "text": [
            "Hello, Eric. You have gained 2 points since last time.\n"
          ]
        }
      ]
    },
    {
      "cell_type": "markdown",
      "metadata": {
        "id": "mT1dD116VFS0"
      },
      "source": [
        "### 3.2. Lists"
      ]
    },
    {
      "cell_type": "markdown",
      "metadata": {
        "id": "Q7mgt_qhVFS0"
      },
      "source": [
        "Lists are very similar to strings, except that each element can be of any type.\n",
        "\n",
        "The syntax for creating lists in Python is a comma separated list of elements between square braces: `[element1, element2, ...]`\n",
        "\n",
        "Here's an example where we're uisng a list to store the names of a bunch of awesome people"
      ]
    },
    {
      "cell_type": "code",
      "metadata": {
        "id": "PlClr1KiVFS1",
        "colab": {
          "base_uri": "https://localhost:8080/"
        },
        "outputId": "3be4cd56-9a99-46e5-b63b-1e87e1614fcb"
      },
      "source": [
        "awesome = [\n",
        "           \"Jacinta Ardern\",\n",
        "           \"Malala Yousafzai\",\n",
        "           \"Greta Thunberg\",\n",
        "           \"Ada Lovelace\",\n",
        "           \"Jackie Chan\",\n",
        "           \"Kalpana Chawla\",\n",
        "           \"Arundhati Roy\",\n",
        "]\n",
        "\n",
        "print(type(awesome))\n"
      ],
      "execution_count": null,
      "outputs": [
        {
          "output_type": "stream",
          "name": "stdout",
          "text": [
            "<class 'list'>\n"
          ]
        }
      ]
    },
    {
      "cell_type": "code",
      "source": [
        "print(awesome)"
      ],
      "metadata": {
        "colab": {
          "base_uri": "https://localhost:8080/"
        },
        "id": "-e-DuqgAmqCb",
        "outputId": "80dafcc2-26cb-418e-ceb5-1e18f5ca1eb3"
      },
      "execution_count": null,
      "outputs": [
        {
          "output_type": "stream",
          "name": "stdout",
          "text": [
            "['Jacinta Ardern', 'Malala Yousafzai', 'Greta Thunberg', 'Ada Lovelace', 'Jackie Chan', 'Kalpana Chawla', 'Arundhati Roy']\n"
          ]
        }
      ]
    },
    {
      "cell_type": "markdown",
      "metadata": {
        "id": "_LrnUJYWVFS2"
      },
      "source": [
        "#### 3.2.1. List Slicing\n",
        "\n",
        "We can use the same syntax from before to get a \"slice\" of a list, just like how we did with strings"
      ]
    },
    {
      "cell_type": "code",
      "metadata": {
        "id": "-mXBKrMDVFS2",
        "colab": {
          "base_uri": "https://localhost:8080/"
        },
        "outputId": "bfd39667-9b20-4f35-82e2-4ef196f1fd60"
      },
      "source": [
        "print(awesome)"
      ],
      "execution_count": null,
      "outputs": [
        {
          "output_type": "stream",
          "name": "stdout",
          "text": [
            "['Jacinta Ardern', 'Malala Yousafzai', 'Greta Thunberg', 'Ada Lovelace', 'Jackie Chan', 'Kalpana Chawla', 'Arundhati Roy']\n"
          ]
        }
      ]
    },
    {
      "cell_type": "code",
      "source": [
        "print(awesome[0])"
      ],
      "metadata": {
        "colab": {
          "base_uri": "https://localhost:8080/"
        },
        "id": "yjPdKNTumxJF",
        "outputId": "98628a8e-c07d-4903-9201-e1ae8b74d008"
      },
      "execution_count": null,
      "outputs": [
        {
          "output_type": "stream",
          "name": "stdout",
          "text": [
            "Jacinta Ardern\n"
          ]
        }
      ]
    },
    {
      "cell_type": "code",
      "source": [
        "print(awesome[0:3])  # Prints the people between index 0 and 2"
      ],
      "metadata": {
        "colab": {
          "base_uri": "https://localhost:8080/"
        },
        "id": "TFU3HRqgm72C",
        "outputId": "8f75807b-8d0e-43ec-fd23-c1056bd4d74e"
      },
      "execution_count": null,
      "outputs": [
        {
          "output_type": "stream",
          "name": "stdout",
          "text": [
            "['Jacinta Ardern', 'Malala Yousafzai', 'Greta Thunberg']\n"
          ]
        }
      ]
    },
    {
      "cell_type": "markdown",
      "metadata": {
        "id": "W5jYz4HrVFTN"
      },
      "source": [
        "#### 3.2.3. Modifying Lists \n",
        "\n",
        "You can `append`, `insert`, and `remove` items (elements) from lists.\n",
        "\n",
        "Let's create a list of Colors one by one\n",
        "\n"
      ]
    },
    {
      "cell_type": "code",
      "metadata": {
        "id": "W5oT25gBVFTN",
        "colab": {
          "base_uri": "https://localhost:8080/"
        },
        "outputId": "8bc5f99c-4b84-4aba-f85f-3cd6e0e3c57a"
      },
      "source": [
        "# create a new empty list\n",
        "color = []\n",
        "\n",
        "# add elements to the end of the list using `append`\n",
        "color.append(\"Red\")\n",
        "color.append(\"Blue\")\n",
        "color.append(\"Green\")\n",
        "color.append(\"Yellow\")\n",
        "\n",
        "print(color)"
      ],
      "execution_count": null,
      "outputs": [
        {
          "output_type": "stream",
          "name": "stdout",
          "text": [
            "['Red', 'Blue', 'Green', 'Yellow']\n"
          ]
        }
      ]
    },
    {
      "cell_type": "markdown",
      "metadata": {
        "id": "jAe_paiZVFTN"
      },
      "source": [
        "We can modify lists by assigning new values to elements in the list.\n"
      ]
    },
    {
      "cell_type": "code",
      "metadata": {
        "id": "jH-jpHCHVFTN",
        "colab": {
          "base_uri": "https://localhost:8080/"
        },
        "outputId": "b728a84d-250a-4a96-bc62-f0539bf910ac"
      },
      "source": [
        "color[1] = \"Purple\"  # change the color at index 1 (the second color) to Wartortle\n",
        "color[2] = \"White\"  # change the color at index 2 (the third color) to Ivysaur\n",
        "\n",
        "print(color)"
      ],
      "execution_count": null,
      "outputs": [
        {
          "output_type": "stream",
          "name": "stdout",
          "text": [
            "['Red', 'Purple', 'White', 'Yellow']\n"
          ]
        }
      ]
    },
    {
      "cell_type": "code",
      "metadata": {
        "id": "nv72YkfwVFTP",
        "colab": {
          "base_uri": "https://localhost:8080/"
        },
        "outputId": "2e9fcac4-3ace-47ed-d7cf-2ab52caee1f4"
      },
      "source": [
        "color.remove(\"Yellow\")\n",
        "\n",
        "print(color)"
      ],
      "execution_count": null,
      "outputs": [
        {
          "output_type": "stream",
          "name": "stdout",
          "text": [
            "['Red', 'Purple', 'White']\n"
          ]
        }
      ]
    },
    {
      "cell_type": "markdown",
      "metadata": {
        "id": "H5DiGVKWVFTQ"
      },
      "source": [
        "\n",
        "\n",
        "There are plenty more things that you can do with lists, like `extend` and `sort`, see `help(list)` for more details, or read the online documentation. "
      ]
    },
    {
      "cell_type": "markdown",
      "metadata": {
        "id": "Rks7roJPVFTQ"
      },
      "source": [
        "### 3.3. Tuples"
      ]
    },
    {
      "cell_type": "markdown",
      "metadata": {
        "id": "8OozMzkZVFTQ"
      },
      "source": [
        "Tuples are like lists, except that they cannot be modified once created, that is they are *immutable*, this means that once a tuple is created, you can't add or remove elements from it without creating a new tuple.\n",
        "\n",
        "In Python, tuples are created using the syntax `(..., ..., ...)`, or even `..., ...`:"
      ]
    },
    {
      "cell_type": "code",
      "metadata": {
        "id": "ov2WUAaEVFTQ",
        "colab": {
          "base_uri": "https://localhost:8080/"
        },
        "outputId": "59448251-935c-4e3f-a7a8-0f245cfa2368"
      },
      "source": [
        "point = (10, 20)\n",
        "\n",
        "print(point, type(point))"
      ],
      "execution_count": null,
      "outputs": [
        {
          "output_type": "stream",
          "name": "stdout",
          "text": [
            "(10, 20) <class 'tuple'>\n"
          ]
        }
      ]
    },
    {
      "cell_type": "markdown",
      "metadata": {
        "id": "w43NCnIjVFTR"
      },
      "source": [
        "We can unpack a tuple by assigning it to a comma-separated list of variables:"
      ]
    },
    {
      "cell_type": "code",
      "metadata": {
        "id": "G6NvhLWtVFTR",
        "colab": {
          "base_uri": "https://localhost:8080/"
        },
        "outputId": "40947093-1252-484b-9bd2-a10f55390eb4"
      },
      "source": [
        "x, y = point \n",
        "\n",
        "print(\"x =\", x)\n",
        "print(\"y =\", y)"
      ],
      "execution_count": null,
      "outputs": [
        {
          "output_type": "stream",
          "name": "stdout",
          "text": [
            "x = 10\n",
            "y = 20\n"
          ]
        }
      ]
    },
    {
      "cell_type": "markdown",
      "metadata": {
        "id": "vCAOyt9UrtrY"
      },
      "source": [
        "if we try to assign some variables to a tuple, but the number of variables is different to the length of the tuple, we get an error"
      ]
    },
    {
      "cell_type": "code",
      "metadata": {
        "id": "YF7a2jKgr4oj",
        "colab": {
          "base_uri": "https://localhost:8080/",
          "height": 164
        },
        "outputId": "09d054d0-bb41-4af7-f59b-2c3bfcc2e220"
      },
      "source": [
        "x, y, z = (1, 2)"
      ],
      "execution_count": null,
      "outputs": [
        {
          "output_type": "error",
          "ename": "ValueError",
          "evalue": "ignored",
          "traceback": [
            "\u001b[0;31m---------------------------------------------------------------------------\u001b[0m",
            "\u001b[0;31mValueError\u001b[0m                                Traceback (most recent call last)",
            "\u001b[0;32m<ipython-input-64-53bb04bdc82b>\u001b[0m in \u001b[0;36m<module>\u001b[0;34m()\u001b[0m\n\u001b[0;32m----> 1\u001b[0;31m \u001b[0mx\u001b[0m\u001b[0;34m,\u001b[0m \u001b[0my\u001b[0m\u001b[0;34m,\u001b[0m \u001b[0mz\u001b[0m \u001b[0;34m=\u001b[0m \u001b[0;34m(\u001b[0m\u001b[0;36m1\u001b[0m\u001b[0;34m,\u001b[0m \u001b[0;36m2\u001b[0m\u001b[0;34m)\u001b[0m\u001b[0;34m\u001b[0m\u001b[0;34m\u001b[0m\u001b[0m\n\u001b[0m",
            "\u001b[0;31mValueError\u001b[0m: not enough values to unpack (expected 3, got 2)"
          ]
        }
      ]
    },
    {
      "cell_type": "markdown",
      "metadata": {
        "id": "xSzAMMM_sGDY"
      },
      "source": []
    },
    {
      "cell_type": "markdown",
      "metadata": {
        "id": "5psVvTeZVFTR"
      },
      "source": [
        "If we try to assign a new value to an element in a tuple we get an error:"
      ]
    },
    {
      "cell_type": "code",
      "metadata": {
        "id": "jP1mZPFFVFTR",
        "colab": {
          "base_uri": "https://localhost:8080/",
          "height": 166
        },
        "outputId": "ef652aa2-73ae-4ad4-c461-e42285fdd9d6"
      },
      "source": [
        "point[0] = 20"
      ],
      "execution_count": null,
      "outputs": [
        {
          "output_type": "error",
          "ename": "TypeError",
          "evalue": "ignored",
          "traceback": [
            "\u001b[0;31m---------------------------------------------------------------------------\u001b[0m",
            "\u001b[0;31mTypeError\u001b[0m                                 Traceback (most recent call last)",
            "\u001b[0;32m<ipython-input-80-9734b1daa940>\u001b[0m in \u001b[0;36m<cell line: 1>\u001b[0;34m()\u001b[0m\n\u001b[0;32m----> 1\u001b[0;31m \u001b[0mpoint\u001b[0m\u001b[0;34m[\u001b[0m\u001b[0;36m0\u001b[0m\u001b[0;34m]\u001b[0m \u001b[0;34m=\u001b[0m \u001b[0;36m20\u001b[0m\u001b[0;34m\u001b[0m\u001b[0;34m\u001b[0m\u001b[0m\n\u001b[0m",
            "\u001b[0;31mTypeError\u001b[0m: 'tuple' object does not support item assignment"
          ]
        }
      ]
    },
    {
      "cell_type": "markdown",
      "metadata": {
        "id": "WPhml1zGVFTS"
      },
      "source": [
        "### 3.4. Dictionaries"
      ]
    },
    {
      "cell_type": "markdown",
      "metadata": {
        "id": "ONCwNcQDVFTS"
      },
      "source": [
        "Dictionaries are a bit like lists, except that each element is a key-value pair. The syntax for defining dictionaries is `{key1 : value1, key2 : value2 ... }`\n",
        "\n",
        "You could use a dictionary to store information about color.\n",
        "\n"
      ]
    },
    {
      "cell_type": "code",
      "metadata": {
        "id": "wkVqR6FzVFTS"
      },
      "source": [
        "SLD = {\n",
        "    \"name\": \"SheLovesData\",\n",
        "    \"chapter\": [\"India\", \"Singapore\",\"Indonesia\"],\n",
        "    \"members\": 1500,\n",
        "    \"workshops\": 199,\n",
        "    \"volunteers\": 235,\n",
        "    \"channel\": \"whatsapp\",\n",
        "    \"session1\": \"SQL\",\n",
        "    \"startdate\": '2023-04-15'\n",
        "}\n",
        "\n"
      ],
      "execution_count": null,
      "outputs": []
    },
    {
      "cell_type": "code",
      "source": [
        "print(type(SLD))\n"
      ],
      "metadata": {
        "colab": {
          "base_uri": "https://localhost:8080/"
        },
        "id": "Dfu6o15zpv0-",
        "outputId": "443200ba-9987-44c3-e06e-60a6ac3a0c2f"
      },
      "execution_count": null,
      "outputs": [
        {
          "output_type": "stream",
          "name": "stdout",
          "text": [
            "<class 'dict'>\n"
          ]
        }
      ]
    },
    {
      "cell_type": "code",
      "source": [
        "print(SLD)"
      ],
      "metadata": {
        "colab": {
          "base_uri": "https://localhost:8080/"
        },
        "id": "Mhj_qJc1pzgI",
        "outputId": "5c735fcc-99a4-46c9-a5e7-3647db96425e"
      },
      "execution_count": null,
      "outputs": [
        {
          "output_type": "stream",
          "name": "stdout",
          "text": [
            "{'name': 'SheLovesData', 'chapter': ['India', 'Singapore', 'Indonesia'], 'members': 1500, 'workshops': 199, 'volunteers': 235, 'channel': 'whatsapp', 'session1': 'SQL', 'startdate': '2023-04-15'}\n"
          ]
        }
      ]
    },
    {
      "cell_type": "markdown",
      "metadata": {
        "id": "CuQrAECWUeVP"
      },
      "source": [
        "To look up values in a dictionary, you can use the syntax `dictionary[key]`"
      ]
    },
    {
      "cell_type": "code",
      "source": [
        "SLD['members']"
      ],
      "metadata": {
        "colab": {
          "base_uri": "https://localhost:8080/"
        },
        "id": "z9RCARwAp48P",
        "outputId": "3b4b16ef-8a2a-4e6a-e30f-422b6d1f777b"
      },
      "execution_count": null,
      "outputs": [
        {
          "output_type": "execute_result",
          "data": {
            "text/plain": [
              "1500"
            ]
          },
          "metadata": {},
          "execution_count": 98
        }
      ]
    },
    {
      "cell_type": "code",
      "metadata": {
        "id": "NpHpcaumVFTS",
        "colab": {
          "base_uri": "https://localhost:8080/",
          "height": 35
        },
        "outputId": "176d269d-f6ce-485a-f5b0-4968669f0ee4"
      },
      "source": [
        "SLD['channel']\n"
      ],
      "execution_count": null,
      "outputs": [
        {
          "output_type": "execute_result",
          "data": {
            "text/plain": [
              "'whatsapp'"
            ],
            "application/vnd.google.colaboratory.intrinsic+json": {
              "type": "string"
            }
          },
          "metadata": {},
          "execution_count": 100
        }
      ]
    },
    {
      "cell_type": "code",
      "source": [
        "print(SLD['channel'])"
      ],
      "metadata": {
        "colab": {
          "base_uri": "https://localhost:8080/"
        },
        "id": "hmQsxIe8qGe_",
        "outputId": "a9ab8f9c-297a-4486-d14a-39fc300c09a1"
      },
      "execution_count": null,
      "outputs": [
        {
          "output_type": "stream",
          "name": "stdout",
          "text": [
            "whatsapp\n"
          ]
        }
      ]
    },
    {
      "cell_type": "markdown",
      "metadata": {
        "id": "46GKrDNpNsla"
      },
      "source": [
        "We can modify a dictionary as below"
      ]
    },
    {
      "cell_type": "code",
      "metadata": {
        "id": "L9pApsejVFTT",
        "colab": {
          "base_uri": "https://localhost:8080/"
        },
        "outputId": "f264ebdf-d97e-41ac-f4e5-f192fe82d407"
      },
      "source": [
        "SLD[\"volunteers\"] = 400\n",
        "print(SLD)"
      ],
      "execution_count": null,
      "outputs": [
        {
          "output_type": "stream",
          "name": "stdout",
          "text": [
            "{'name': 'SheLovesData', 'chapter': ['India', 'Singapore', 'Indonesia'], 'members': 1500, 'workshops': 199, 'volunteers': 400, 'channel': 'whatsapp', 'session1': 'SQL', 'startdate': '2023-04-15'}\n"
          ]
        }
      ]
    },
    {
      "cell_type": "markdown",
      "metadata": {
        "id": "yFrcazFoO4W3"
      },
      "source": [
        "We can also create new entries in a dictionary that weren't there when we defined it."
      ]
    },
    {
      "cell_type": "code",
      "metadata": {
        "id": "GWZPW9MtPpb_",
        "colab": {
          "base_uri": "https://localhost:8080/"
        },
        "outputId": "227ee7bd-3d59-481e-85a6-9b81f2d36787"
      },
      "source": [
        "SLD[\"hosting chapter\"] = \"India\"\n",
        "print(SLD)"
      ],
      "execution_count": null,
      "outputs": [
        {
          "output_type": "stream",
          "name": "stdout",
          "text": [
            "{'name': 'SheLovesData', 'chapter': ['India', 'Singapore', 'Indonesia'], 'members': 1500, 'workshops': 199, 'volunteers': 400, 'channel': 'whatsapp', 'session1': 'SQL', 'startdate': '2023-04-15', 'hosting chapter': 'India'}\n"
          ]
        }
      ]
    },
    {
      "cell_type": "markdown",
      "metadata": {
        "id": "mYu3LTDopBMF"
      },
      "source": [
        "Dictionaries have functions for accessing all of the keys, values and key-value pairs (items)."
      ]
    },
    {
      "cell_type": "code",
      "metadata": {
        "id": "30aAegheqSBa",
        "colab": {
          "base_uri": "https://localhost:8080/"
        },
        "outputId": "317b3b55-d5a6-4339-dbb5-5b3a50024afb"
      },
      "source": [
        "print(SLD.keys())  # all the names of SLD's attributes\n",
        "print(SLD.values()) # all the values of SLDs attributes\n",
        "print(SLD.items()) # all of SLD's attributes as tuples of (attribute name, value)"
      ],
      "execution_count": null,
      "outputs": [
        {
          "output_type": "stream",
          "name": "stdout",
          "text": [
            "dict_keys(['name', 'chapter', 'members', 'workshops', 'volunteers', 'channel', 'session1', 'startdate'])\n",
            "dict_values(['SheLovesData', ['India', 'Singapore', 'Indonesia'], 1500, 199, 235, 'whatsapp', 'SQL', '2023-04-15'])\n",
            "dict_items([('name', 'SheLovesData'), ('chapter', ['India', 'Singapore', 'Indonesia']), ('members', 1500), ('workshops', 199), ('volunteers', 235), ('channel', 'whatsapp'), ('session1', 'SQL'), ('startdate', '2023-04-15')])\n"
          ]
        }
      ]
    },
    {
      "cell_type": "markdown",
      "metadata": {
        "id": "UM3t5uwHVFTT"
      },
      "source": [
        "## 4. Control Flows\n",
        "\n",
        "You can control the flow of your program by using conditional statements, these are blocks of code that only execude under certain conditions. \n"
      ]
    },
    {
      "cell_type": "markdown",
      "metadata": {
        "id": "iv9siKkQVFTU"
      },
      "source": [
        " In Python, the extent of a code block is defined by the indentation level (usually a tab or say four white spaces). This means that we have to be careful to indent our code correctly, or else we will get syntax errors. "
      ]
    },
    {
      "cell_type": "markdown",
      "metadata": {
        "id": "q4qfql_17LO-"
      },
      "source": [
        "### 4.1: If/Else Statements\n",
        "\n",
        "If/else statements are a kind of conditional statement we can use to execute code only if a certain condition is true. The syntax includes the `if` and `else` keywords, as well as the optional `elif` keyword:"
      ]
    },
    {
      "cell_type": "code",
      "metadata": {
        "id": "q4g91vJgVFTU",
        "colab": {
          "base_uri": "https://localhost:8080/"
        },
        "outputId": "0e03ba9d-e7c4-42f7-a426-552333c07620"
      },
      "source": [
        "if (10>5):\n",
        "    print(\"10 is greater than 5\")\n",
        "else:\n",
        "    print(\"10 is lesser than 5\")"
      ],
      "execution_count": null,
      "outputs": [
        {
          "output_type": "stream",
          "name": "stdout",
          "text": [
            "10 is greater than 5\n"
          ]
        }
      ]
    },
    {
      "cell_type": "code",
      "source": [
        "total = 100\n",
        "\n",
        "if total > 100:\n",
        " print(\"total is greater than 100\")\n",
        "\n",
        "if total == 100:\n",
        "  print(\"total is 100\")\n",
        "\n",
        "if total < 100:\n",
        "    print(\"total is less than 100\")"
      ],
      "metadata": {
        "colab": {
          "base_uri": "https://localhost:8080/"
        },
        "id": "JFmBzWzru63C",
        "outputId": "e628dba6-0e78-414e-cae2-e5f498f54138"
      },
      "execution_count": null,
      "outputs": [
        {
          "output_type": "stream",
          "name": "stdout",
          "text": [
            "total is 100\n"
          ]
        }
      ]
    },
    {
      "cell_type": "code",
      "source": [
        "total = 100\n",
        "if total == 200:\n",
        "   print (\"Python is fun\")\n",
        "elif total == 150:\n",
        "   print (\"Python is easy\")\n",
        "elif total == 100:\n",
        "   print (\"SLD makes Python fun\")\n",
        "else:\n",
        "   print (\"I can do this\")\n"
      ],
      "metadata": {
        "colab": {
          "base_uri": "https://localhost:8080/"
        },
        "id": "I5yy5F-WvRG-",
        "outputId": "89b20ee3-0b4d-43f7-9f74-b66f4441a657"
      },
      "execution_count": null,
      "outputs": [
        {
          "output_type": "stream",
          "name": "stdout",
          "text": [
            "SLD makes Python fun\n"
          ]
        }
      ]
    },
    {
      "cell_type": "markdown",
      "metadata": {
        "id": "3Wh0aqW0Yh87"
      },
      "source": [
        "#### 4.1.1. Exercise"
      ]
    },
    {
      "cell_type": "markdown",
      "metadata": {
        "id": "uWXdnSi67t30"
      },
      "source": [
        "Using a boolean variable (`hungry`), write an if/else block that prompts you to eat if `hungry` is `True`. "
      ]
    },
    {
      "cell_type": "code",
      "metadata": {
        "id": "p2igpdbn7r24"
      },
      "source": [
        "hungry = True\n",
        "\n",
        "# Write your code here..."
      ],
      "execution_count": null,
      "outputs": []
    },
    {
      "cell_type": "markdown",
      "metadata": {
        "id": "w3wzEJR7VFTU"
      },
      "source": [
        "### 4.2. Example: Using if/else, logical operators and boolean operators together."
      ]
    },
    {
      "cell_type": "markdown",
      "metadata": {
        "id": "HKUE45_LLlC9"
      },
      "source": [
        "Here, we're going to use the example of test scores to understand conditionals in a little more depth. We're also going to practice using logical operators. \n",
        "\n",
        "We've built a program where someone can submit their score on a test and see their letter grade. What do you think the output of the code below will be?"
      ]
    },
    {
      "cell_type": "code",
      "metadata": {
        "id": "-h-YlQx8LvRU",
        "colab": {
          "base_uri": "https://localhost:8080/",
          "height": 34
        },
        "outputId": "1ab37260-f971-4c17-e855-4514b7dad140"
      },
      "source": [
        "test_score = 70\n",
        "\n",
        "if test_score >= 85:\n",
        "  print(\"Congratulations, you've scored an A on the test!\")\n",
        "elif test_score >= 75 and test_score < 85: \n",
        "  print(\"Good work! You've scored a B on the test.\")\n",
        "elif test_score >= 65 and test_score < 75: \n",
        "  print(\"Nice! You've scored a C on the test\")\n",
        "else:\n",
        "  print(\"Unfortunately you have to retake the test.\")"
      ],
      "execution_count": null,
      "outputs": [
        {
          "output_type": "stream",
          "text": [
            "Nice! You've scored a C on the test\n"
          ],
          "name": "stdout"
        }
      ]
    },
    {
      "cell_type": "markdown",
      "metadata": {
        "id": "n_L5SLjsOROz"
      },
      "source": [
        "We can also nest if/else statements inside other if/else statements. This is useful if you don't want a certain line of code to run all the time. For instance, we might want to send an extra message if someone recieved full marks on a test. It would make sense to nest this so it only runs when we encounter test scores in the 'A' band. "
      ]
    },
    {
      "cell_type": "code",
      "metadata": {
        "id": "qKBbdFThVFTU",
        "colab": {
          "base_uri": "https://localhost:8080/"
        },
        "outputId": "0a8cd1ac-7a07-45b1-cbd1-9cb4dbaa860f"
      },
      "source": [
        "test_score = 100\n",
        "\n",
        "if test_score >= 85:\n",
        "  print(\"Congratulations, you've scored an A on the test!\")\n",
        "  if test_score == 100:\n",
        "        print(\"Full marks! Nice job!\")\n",
        "elif test_score >= 75 and test_score < 85: \n",
        "  print(\"Good work! You've scored a B on the test.\")\n",
        "elif test_score >= 65 and test_score < 75: \n",
        "  print(\"Nice! You've scored a C on the test\")\n",
        "else:\n",
        "  print(\"Unfortunately you have to retake the test.\")"
      ],
      "execution_count": null,
      "outputs": [
        {
          "output_type": "stream",
          "name": "stdout",
          "text": [
            "Congratulations, you've scored an A on the test!\n",
            "Full marks! Nice job!\n"
          ]
        }
      ]
    },
    {
      "cell_type": "code",
      "metadata": {
        "id": "_4qwuaN7VFTU",
        "colab": {
          "base_uri": "https://localhost:8080/",
          "height": 131
        },
        "outputId": "4bc133a8-10d9-4b53-e670-30c8ea0ae057"
      },
      "source": [
        "# Watch out for bad indentation!\n",
        "test_score = 85\n",
        "if test_score >= 85:\n",
        "  print(\"Congratulations, you've scored an A on the test!\")\n",
        "  if test_score == 100:\n",
        "  print(\"Full marks, too! Nice job!\")  # this line is not properly indented so it will throw an error."
      ],
      "execution_count": null,
      "outputs": [
        {
          "output_type": "error",
          "ename": "IndentationError",
          "evalue": "ignored",
          "traceback": [
            "\u001b[0;36m  File \u001b[0;32m\"<ipython-input-121-82a01dcdfa7d>\"\u001b[0;36m, line \u001b[0;32m6\u001b[0m\n\u001b[0;31m    print(\"Full marks, too! Nice job!\")  # this line is not properly indented so it will throw an error.\u001b[0m\n\u001b[0m    ^\u001b[0m\n\u001b[0;31mIndentationError\u001b[0m\u001b[0;31m:\u001b[0m expected an indented block after 'if' statement on line 5\n"
          ]
        }
      ]
    },
    {
      "cell_type": "markdown",
      "metadata": {
        "id": "71zo2AxbQMna"
      },
      "source": [
        "Let's do one more thing. We'll add a general message to everyone (regardless of their mark) to say well done on completing the test. This should run outside the if/else block as we want it to run in all cases."
      ]
    },
    {
      "cell_type": "code",
      "metadata": {
        "id": "6udmynjJVFTV",
        "colab": {
          "base_uri": "https://localhost:8080/"
        },
        "outputId": "6daaddb7-7722-4cb6-8916-9f2637dce0ee"
      },
      "source": [
        "if test_score >= 85:\n",
        "  print(\"Congratulations, you've scored an A on the test!\")\n",
        "  if test_score == 100:\n",
        "        print(\"Full marks, too! Nice job!\")\n",
        "elif test_score >= 75 and test_score < 85: \n",
        "  print(\"Good work! You've scored a B on the test.\")\n",
        "elif test_score >= 65 and test_score < 75: \n",
        "  print(\"Nice! You've scored a C on the test\")\n",
        "else:\n",
        "  print(\"Unfortunately you have to retake the test.\")\n",
        "\n",
        "  print('Well done on completing the test.') # This isn't indented correctly. It will only run if the 'else' statement is evoked. "
      ],
      "execution_count": null,
      "outputs": [
        {
          "output_type": "stream",
          "name": "stdout",
          "text": [
            "Congratulations, you've scored an A on the test!\n"
          ]
        }
      ]
    },
    {
      "cell_type": "code",
      "metadata": {
        "id": "ZKDhtv-FVFTV",
        "colab": {
          "base_uri": "https://localhost:8080/"
        },
        "outputId": "545a1ca4-0c6f-437d-8845-0442b31f8438"
      },
      "source": [
        "if test_score >= 85:\n",
        "  print(\"Congratulations, you've scored an A on the test!\")\n",
        "  if test_score == 100:\n",
        "        print(\"Full marks, too! Nice job!\")\n",
        "elif test_score >= 75 and test_score < 85: \n",
        "  print(\"Good work! You've scored a B on the test.\")\n",
        "elif test_score >= 65 and test_score < 75: \n",
        "  print(\"Nice! You've scored a C on the test\")\n",
        "else:\n",
        "  print(\"Unfortunately you have to retake the test.\")\n",
        "\n",
        "print('Well done on completing the test.') # This is the correct indentation - it's outside the if/else block."
      ],
      "execution_count": null,
      "outputs": [
        {
          "output_type": "stream",
          "name": "stdout",
          "text": [
            "Congratulations, you've scored an A on the test!\n",
            "Well done on completing the test.\n"
          ]
        }
      ]
    },
    {
      "cell_type": "markdown",
      "metadata": {
        "id": "rlbXXXXmRjcW"
      },
      "source": [
        "### 4.2. FURTHER READING: Shopping calculator. \n",
        "\n",
        "Write a program that determines whether you can afford to buy something based on your bank balance.\n",
        "\n",
        "\n",
        "*   Define two variables. One should store your savings. The other should store the cost of the item you want to buy. \n",
        "*   Using conditionals, write an if/else block that checks whether the cost of the item is more or less than your balance. It should print a message telling you whether you can afford the item or not. \n",
        "*   Add an `elif` statement that checks if you have a credit card. Print out a message to remind yourself that you can consider credit, but to be careful.\n",
        "*   You may want to add a nested `if` statement to see if you'll be spending too much of your balance on the item, even if you can afford it with your savings. You can use this to print out a warning message to yourself. \n",
        "\n",
        "This is just the beginning! Add as many calculations, elifs and nested if blocks as you want!"
      ]
    },
    {
      "cell_type": "code",
      "metadata": {
        "id": "TyXrZ3-aSnMk"
      },
      "source": [
        "# Write your program here..."
      ],
      "execution_count": null,
      "outputs": []
    },
    {
      "cell_type": "markdown",
      "metadata": {
        "id": "j9xVgHpkVFTV"
      },
      "source": [
        "## 5. Loops\n",
        "\n",
        "In Python, loops can be programmed in a number of different ways. The most common is the `for` loop, which is used together with iterable objects, such as lists. "
      ]
    },
    {
      "cell_type": "markdown",
      "metadata": {
        "id": "IHl15VKKVFTW"
      },
      "source": [
        "### 5.1. For Loops\n",
        "\n",
        "This is the most common type of loop. The basic syntax is:"
      ]
    },
    {
      "cell_type": "code",
      "metadata": {
        "id": "Wwok5VuJVFTW",
        "colab": {
          "base_uri": "https://localhost:8080/"
        },
        "outputId": "69660049-a2e5-4420-f6de-2613838684d4"
      },
      "source": [
        "for x in [1,2,3]:\n",
        "    print(x)"
      ],
      "execution_count": null,
      "outputs": [
        {
          "output_type": "stream",
          "name": "stdout",
          "text": [
            "1\n",
            "2\n",
            "3\n"
          ]
        }
      ]
    },
    {
      "cell_type": "markdown",
      "metadata": {
        "id": "baiGpXDWVFTW"
      },
      "source": [
        "The `for` loop loops (iterates) over the elements of the supplied list, and executes the given block of code once for each element. Most compound types can be used in `for` loops, such as lists, dictionaries and strings.\n",
        "\n",
        "You'll commonly see the range function used in loops as a shorthand for a list of numbers starting at 0 and ending just before a given number. In this example, `range(4)` contains 4 items, and is short for the list `[0, 1, 2, 3]` (note this does does not include 4, since it starts at 0)."
      ]
    },
    {
      "cell_type": "code",
      "metadata": {
        "id": "G_Ua54BRVFTW",
        "colab": {
          "base_uri": "https://localhost:8080/"
        },
        "outputId": "1710cf2c-78b1-4057-9ee2-76748a1338ef"
      },
      "source": [
        "for number in range(4):\n",
        "    print(number)"
      ],
      "execution_count": null,
      "outputs": [
        {
          "output_type": "stream",
          "name": "stdout",
          "text": [
            "0\n",
            "1\n",
            "2\n",
            "3\n"
          ]
        }
      ]
    },
    {
      "cell_type": "markdown",
      "metadata": {
        "id": "bCZ-Q46oeqpw"
      },
      "source": [
        "If range is called with two arguments, the first argument is the starting number, and the second number is the number after the last number."
      ]
    },
    {
      "cell_type": "code",
      "metadata": {
        "id": "IfrDEuz2VFTX",
        "colab": {
          "base_uri": "https://localhost:8080/"
        },
        "outputId": "b1a62167-09a7-4d1d-dff5-f67d579d6281"
      },
      "source": [
        "for number in range(-3,3):\n",
        "    print(number)"
      ],
      "execution_count": null,
      "outputs": [
        {
          "output_type": "stream",
          "name": "stdout",
          "text": [
            "-3\n",
            "-2\n",
            "-1\n",
            "0\n",
            "1\n",
            "2\n"
          ]
        }
      ]
    },
    {
      "cell_type": "markdown",
      "metadata": {
        "id": "UZBxjFGmfHbK"
      },
      "source": [
        "For loops work with any kind of list"
      ]
    },
    {
      "cell_type": "code",
      "metadata": {
        "id": "WYOilw77VFTX",
        "colab": {
          "base_uri": "https://localhost:8080/"
        },
        "outputId": "b7937de8-d538-41d6-94be-8067cb38b547"
      },
      "source": [
        "for word in [\"scientific\", \"computing\", \"with\", \"python\"]:\n",
        "    print(word)"
      ],
      "execution_count": null,
      "outputs": [
        {
          "output_type": "stream",
          "name": "stdout",
          "text": [
            "scientific\n",
            "computing\n",
            "with\n",
            "python\n"
          ]
        }
      ]
    },
    {
      "cell_type": "markdown",
      "metadata": {
        "id": "pEFAtqs0VFTX"
      },
      "source": [
        "You will sometimes see loops that iterate over multiple variables.\n",
        "\n",
        "If you want to have a loop that does something with both the key, and the associated value in a dictionary, you can use the `.items()` function of a dictionary."
      ]
    },
    {
      "cell_type": "code",
      "metadata": {
        "id": "FDmH4Ec8VFTX",
        "colab": {
          "base_uri": "https://localhost:8080/"
        },
        "outputId": "42d9a58a-3103-4112-f5b2-3858d3b5de1e"
      },
      "source": [
        "for key, value in SLD.items():\n",
        "    print(f\"{key} = {value}\")"
      ],
      "execution_count": null,
      "outputs": [
        {
          "output_type": "stream",
          "name": "stdout",
          "text": [
            "name = SheLovesData\n",
            "chapter = ['India', 'Singapore', 'Indonesia']\n",
            "members = 1500\n",
            "workshops = 199\n",
            "volunteers = 235\n",
            "channel = whatsapp\n",
            "session1 = SQL\n",
            "startdate = 2023-04-15\n"
          ]
        }
      ]
    },
    {
      "cell_type": "markdown",
      "metadata": {
        "id": "N7MoR-uTOeeT"
      },
      "source": [
        "#### 5.1.1. Exercise"
      ]
    },
    {
      "cell_type": "markdown",
      "metadata": {
        "id": "1xKp79gB2hhU"
      },
      "source": [
        "Print out each item in the `top_netflix_content` list."
      ]
    },
    {
      "cell_type": "code",
      "metadata": {
        "id": "nYjDd9wv1Rr2",
        "colab": {
          "base_uri": "https://localhost:8080/"
        },
        "outputId": "06a014c8-9d3b-4353-99d8-3b0cb0f3805e"
      },
      "source": [
        "top_netflix_content = [\"Orange is the New Black\", \"Extraction\", \"Bird Box\", \"Spenser Confidential\", \"6 Underground\", \"The Witcher\", \"Murder Mystery\", \"The Irishman\", \"Stranger Things\", \"Triple Frontier\"]\n",
        "\n",
        "# Write your code here ...\n",
        "for content in top_netflix_content:\n",
        "    ..."
      ],
      "execution_count": null,
      "outputs": [
        {
          "output_type": "stream",
          "name": "stdout",
          "text": [
            "Orange is the New Black\n",
            "Extraction\n",
            "Bird Box\n",
            "Spenser Confidential\n",
            "6 Underground\n",
            "The Witcher\n",
            "Murder Mystery\n",
            "The Irishman\n",
            "Stranger Things\n",
            "Triple Frontier\n"
          ]
        }
      ]
    },
    {
      "cell_type": "markdown",
      "metadata": {
        "id": "HrxwYlgvVFTY"
      },
      "source": [
        "#### 5.1.1. **FURTHER READING:** Enumerate\n",
        "\n",
        "Sometimes it is useful to have access to the indices of the values when iterating over a list. We can use the `enumerate` function for this. Remember our list of awesome women? Let's use the enumerate function to get both the index value of each item. "
      ]
    },
    {
      "cell_type": "code",
      "metadata": {
        "id": "N8gpcrwdVFTY"
      },
      "source": [
        "awesome = [\n",
        "  \"Jacinta Ardern\",\n",
        "  \"Malala Yousafzai\",\n",
        "  \"Greta Thunberg\",\n",
        "  \"Ada Lovelace\",\n",
        "  \"Jackie Chan\",\n",
        "  \"Kalpana Chawla\",\n",
        "  \"Arundhati Roy\",\n",
        "]\n",
        "\n",
        "for index, person in enumerate(awesome):\n",
        "    print(index, person)"
      ],
      "execution_count": null,
      "outputs": []
    },
    {
      "cell_type": "markdown",
      "metadata": {
        "id": "9mLQyDeSVFTY"
      },
      "source": [
        "#### 5.1.2. **Further Reading:** List comprehension\n",
        "\n",
        "This is a really convenient way of creating a list. You can think of it as a shorthand for writing a `for` loop which creates a list.\n",
        "\n",
        "If you were writing a for loop to create a list based off another list, you might write something like this"
      ]
    },
    {
      "cell_type": "code",
      "metadata": {
        "id": "G477UQnkfGoZ"
      },
      "source": [
        "awesome = [\n",
        "  \"Jacinta Ardern\",\n",
        "  \"Malala Yousafzai\",\n",
        "  \"Greta Thunberg\",\n",
        "  \"Ada Lovelace\",\n",
        "  \"Jackie Chan\",\n",
        "  \"Kalpana Chawla\",\n",
        "  \"Arundhati Roy\",\n",
        "]\n",
        "\n",
        "awesome_facts = []\n",
        "for person in awesome:\n",
        "  awesome_facts.append(f\"{person} is awesome\")\n",
        "awesome_facts"
      ],
      "execution_count": null,
      "outputs": []
    },
    {
      "cell_type": "markdown",
      "metadata": {
        "id": "JDLBOBExfnkp"
      },
      "source": [
        "Let's break down this for loop, and show how you can rewrite it as a list comprehension.\n",
        "\n",
        "This is the basic structure of our for loop above, where `<item_expression>` is any single expression involving our `<item>` variable:\n",
        "\n",
        "```python\n",
        "result = []\n",
        "for <item> in <list>:\n",
        "  result.append(<item_expression>)\n",
        "```\n",
        "\n",
        "The basic syntax for list comprehension that does the same thing is\n",
        "\n",
        "```python\n",
        "[<item_expression> for <item> in <list>]\n",
        "```\n",
        "\n",
        "**Note:** if `<item_expression>` is just `<item>` then you end up with your original list.\n",
        "\n",
        "So the following example is the list comprehension equivalent of the `for` loop above. \n",
        "\n",
        "**Note:** you can do it all in a single line!"
      ]
    },
    {
      "cell_type": "code",
      "metadata": {
        "id": "ouyCbzq8VFTZ"
      },
      "source": [
        "[f\"{person} is awesome\" for person in awesome]"
      ],
      "execution_count": null,
      "outputs": []
    },
    {
      "cell_type": "markdown",
      "metadata": {
        "id": "CXd7twcTcYIK"
      },
      "source": [
        "List Comprehensions also allow you to \"filter\" a list and return a new list that meets certain conditions.\n",
        "\n",
        "The syntax for this more advanced kind of list comprehension is\n",
        "\n",
        "```python\n",
        "[<item_expression> for <item> in <list> if <item_condition>]\n",
        "```\n",
        "\n",
        "which is equivalent to the following for loop:\n",
        "\n",
        "```python\n",
        "result = []\n",
        "for <item> in <list>:\n",
        "  if <item_condition>:\n",
        "    reseult.append(<item_expression>)\n",
        "```\n",
        "\n",
        "So if we only think people whose first name starts with the letter `A` are awesome, then our list comprehension might look like this:"
      ]
    },
    {
      "cell_type": "code",
      "metadata": {
        "id": "X_cg4tB_gINH"
      },
      "source": [
        "[f\"{person} is awesome\" for person in awesome if person.startswith(\"A\")]"
      ],
      "execution_count": null,
      "outputs": []
    },
    {
      "cell_type": "markdown",
      "metadata": {
        "id": "Te6pgZici80D"
      },
      "source": [
        "here is another example of list comprehension in action:"
      ]
    },
    {
      "cell_type": "code",
      "metadata": {
        "id": "IuUWPRTNVFTZ"
      },
      "source": [
        "[x for x in range(0, 100) if x % 7 == 3]"
      ],
      "execution_count": null,
      "outputs": []
    },
    {
      "cell_type": "markdown",
      "metadata": {
        "id": "j4BRFzbU0hPv"
      },
      "source": [
        "#### 5.1.3. **FURTHER READING:** Dictionary Comprehension\n",
        "\n",
        "This is the shorthand for writing for loops for dictionaries, similar to list comprehension.\n",
        "\n",
        "let's say we have a dictionary with bunch of color and their strength value, and we want to double their strength.\n",
        "\n",
        "If you wanted to do this using a for loop, you might do something like the example below.\n",
        "\n",
        "Remember: `dict.items()` returns a list of key-value tuples."
      ]
    },
    {
      "cell_type": "code",
      "metadata": {
        "id": "4sXx0DBUspch"
      },
      "source": [
        "color_strength  = {'Charmander': 64, 'Squirtle': 29, 'Bulbasaur': 37, 'Pikachu': 18}\n",
        "\n",
        "upgraded_color_strength = {}\n",
        "for color, strength in color_strength.items():\n",
        "  upgraded_color_strength[color] = strength * 2\n",
        "upgraded_color_strength"
      ],
      "execution_count": null,
      "outputs": []
    },
    {
      "cell_type": "markdown",
      "metadata": {
        "id": "YCalf7xJs25w"
      },
      "source": [
        "In list comprehension, we used a single `<item_expression>` to create a list. When building dictionaries, we need both a `<key_expression>` and a `<value_expression>`. These expressions have access to both the key and value of the current dictionary key-value pair. \n",
        "\n",
        "Let's break down our for loop from the previous example:\n",
        "\n",
        "```python\n",
        "result = {}\n",
        "for <key>, <value> in <key_value_tuples>:\n",
        "  result[<key_expression>] = <value_expression>\n",
        "```\n",
        "\n",
        "To write this as a dictionary comprehension, the syntax is\n",
        "\n",
        "```python\n",
        "{<key_expression>: <value_expression> for <key>, <value> in <key_value_tuples>}\n",
        "```\n",
        "\n",
        "So we can rewrite our for loop like this:"
      ]
    },
    {
      "cell_type": "code",
      "metadata": {
        "id": "ELntL9AS319Z"
      },
      "source": [
        "{color: strenght*2 for color, strenght in color_strength.items()}  # double the strength of each color"
      ],
      "execution_count": null,
      "outputs": []
    },
    {
      "cell_type": "markdown",
      "metadata": {
        "id": "Cck0JnJk5Buj"
      },
      "source": [
        "Just like list comprehension, dictionary comprehension supports filters using `if`.\n",
        "\n",
        "Let's only upgrade the strength of the hard working color that deserve it."
      ]
    },
    {
      "cell_type": "code",
      "metadata": {
        "id": "Cxghwvaw4-Lb"
      },
      "source": [
        "hard_workers = ['Squirtle','Pikachu']\n",
        "{color: strenght**2 for color, strenght in color_strength.items() if color in hard_workers}"
      ],
      "execution_count": null,
      "outputs": []
    },
    {
      "cell_type": "markdown",
      "metadata": {
        "id": "zjlNLV7gVFTZ"
      },
      "source": [
        "### 5.2. While Loops\n",
        "\n",
        "This loop checks a condition (in this example, `i < 5`) and then execudes the body of the loop (the indented block of code). It only stops when this condition is `False`."
      ]
    },
    {
      "cell_type": "code",
      "metadata": {
        "id": "NP58aYN9VFTZ",
        "colab": {
          "base_uri": "https://localhost:8080/"
        },
        "outputId": "e04a727a-37ea-4e6b-83f3-4d34c790c66e"
      },
      "source": [
        "counter = 0\n",
        "\n",
        "while counter < 5:\n",
        "    print(counter)\n",
        "    counter = counter + 1\n",
        "    \n",
        "print(\"done\")"
      ],
      "execution_count": null,
      "outputs": [
        {
          "output_type": "stream",
          "name": "stdout",
          "text": [
            "0\n",
            "1\n",
            "2\n",
            "3\n",
            "4\n",
            "done\n"
          ]
        }
      ]
    },
    {
      "cell_type": "markdown",
      "metadata": {
        "id": "VDzPG7KaVFTa"
      },
      "source": [
        "Note that the `print(\"done\")` statement is not part of the `while` loop body because of the difference in indentation."
      ]
    },
    {
      "cell_type": "markdown",
      "metadata": {
        "id": "Y361QRaOB4yQ"
      },
      "source": [
        "#### 5.2.1: Exercise\n",
        "\n",
        "Create a while loop that counts down the hours of an 8-hour work day. Your code should start at the beginning of the day with 8 `hours_remaining`, and loop through each hour in the day, decreasing `hours_remaining` by 1 each time. \n",
        "\n",
        "If `hours_remaining` is higher than 0, print 'Keep going.', but once you have no hours left in the work day, you can exit the loop and print \"You're free!\"."
      ]
    },
    {
      "cell_type": "code",
      "metadata": {
        "id": "ivtG1082B88u"
      },
      "source": [
        "hours_remaining = 8\n",
        "\n",
        "# Write your for loop here..."
      ],
      "execution_count": null,
      "outputs": []
    },
    {
      "cell_type": "markdown",
      "metadata": {
        "id": "arEabaNcVFTe"
      },
      "source": [
        "## 6. Functions"
      ]
    },
    {
      "cell_type": "markdown",
      "metadata": {
        "id": "mCieOCGJVFTe"
      },
      "source": [
        "A function in Python is defined using the keyword `def`, followed by a function name, a signature within parentheses `()`, and a colon `:`. The following code, with one additional level of indentation, is the function body.\n",
        "\n",
        "When we run the cell to define the function, it won't output anything, we need to call it in the next cell for it to actually print"
      ]
    },
    {
      "cell_type": "code",
      "metadata": {
        "id": "9Pyu9KTuVFTe"
      },
      "source": [
        "def test():   \n",
        "    print(\"test\")"
      ],
      "execution_count": null,
      "outputs": []
    },
    {
      "cell_type": "code",
      "metadata": {
        "id": "-qCtQrmEVFTe"
      },
      "source": [
        "test()"
      ],
      "execution_count": null,
      "outputs": []
    },
    {
      "cell_type": "markdown",
      "metadata": {
        "id": "BwnlNuWiVFTf"
      },
      "source": [
        "Optionally, but highly recommended, we can define a so called \"docstring\", which is a description of the functions purpose and behaivor. The docstring should follow directly after the function definition, before the code in the function body."
      ]
    },
    {
      "cell_type": "code",
      "metadata": {
        "id": "H8slULQVVFTf"
      },
      "source": [
        "def describe(s):\n",
        "    \"\"\"\n",
        "    Print a string 's' and tell how many characters it has    \n",
        "    \"\"\"\n",
        "    print(s + \" has \" + str(len(s)) + \" characters\")"
      ],
      "execution_count": null,
      "outputs": []
    },
    {
      "cell_type": "code",
      "metadata": {
        "id": "VhB9hvYXVFTf"
      },
      "source": [
        "help(describe)"
      ],
      "execution_count": null,
      "outputs": []
    },
    {
      "cell_type": "code",
      "metadata": {
        "id": "oin6LPkTVFTf"
      },
      "source": [
        "describe(\"this string\"), describe(\"another string\")"
      ],
      "execution_count": null,
      "outputs": []
    },
    {
      "cell_type": "markdown",
      "metadata": {
        "id": "s5dr9ljqVFTg"
      },
      "source": [
        "The above function doesn't return a value, but if we our function to return a value, then we use `return` keyword:"
      ]
    },
    {
      "cell_type": "code",
      "metadata": {
        "id": "BPdd8ofHVFTg"
      },
      "source": [
        "def square(x):\n",
        "    \"\"\"\n",
        "    Return the square of x.\n",
        "    \"\"\"\n",
        "    return x ** 2"
      ],
      "execution_count": null,
      "outputs": []
    },
    {
      "cell_type": "code",
      "metadata": {
        "id": "zMxBVaesVFTg"
      },
      "source": [
        "f\"the square of four is {square(4)}\""
      ],
      "execution_count": null,
      "outputs": []
    },
    {
      "cell_type": "markdown",
      "metadata": {
        "id": "ZQwLEm9jxmak"
      },
      "source": [
        "If you're new to the idea of functions, think about it like this: When we call the function `square` with the value `4`, Python computes the answer, and replaces `square(4)` with the answer, `16` and then executes the rest of the line."
      ]
    },
    {
      "cell_type": "markdown",
      "metadata": {
        "id": "67pnDFn0G6Ql"
      },
      "source": [
        "### 6.1. Exercise\n",
        "\n",
        "In exercise 2.1.1, you used Python to replicate Shakuntala Devi's world record calculation. Now, with the power of functions you can write a function that takes any two numbers and return the result.\n",
        "\n",
        "Write a function called `shakuntala` that takes two numbers and multiplies them. When you're finished, the code block below will check that your function is working correctly\n"
      ]
    },
    {
      "cell_type": "code",
      "metadata": {
        "id": "MRu0RswI0YVa"
      },
      "source": [
        "def shakuntala(a, b):\n",
        "  # finish this function"
      ],
      "execution_count": null,
      "outputs": []
    },
    {
      "cell_type": "markdown",
      "metadata": {
        "id": "wM3kaNAe0Y76"
      },
      "source": [
        "This code will help you check that your function works correctly using an assertion, which is basically a way of performing a check that something holds true. If the thing being checked is false, then it causes an error."
      ]
    },
    {
      "cell_type": "code",
      "metadata": {
        "id": "J0kMjoEM0YAg"
      },
      "source": [
        "assert shakuntala(7_686_369_774_870, 2_465_099_745_779) == 18_947_668_177_995_426_462_773_730, \"your function didn't work\"\n",
        "print(\"your function passed the test!\")"
      ],
      "execution_count": null,
      "outputs": []
    },
    {
      "cell_type": "markdown",
      "metadata": {
        "id": "tOD7vvC5VFTg"
      },
      "source": [
        "### 6.2. **FURTHER READING:** Returning multiple values\n",
        "\n",
        "We can return multiple values from a function using tuples (see above):"
      ]
    },
    {
      "cell_type": "code",
      "metadata": {
        "id": "dFuQLx2JVFTh"
      },
      "source": [
        "def powers(x):\n",
        "    \"\"\"\n",
        "    Return a few powers of x.\n",
        "    \"\"\"\n",
        "    return x ** 2, x ** 3, x ** 4"
      ],
      "execution_count": null,
      "outputs": []
    },
    {
      "cell_type": "code",
      "metadata": {
        "id": "pze8sV9TVFTh"
      },
      "source": [
        "powers(3)"
      ],
      "execution_count": null,
      "outputs": []
    },
    {
      "cell_type": "code",
      "metadata": {
        "id": "Hoiw0IfmVFTh"
      },
      "source": [
        "red, green, blue = powers(3)\n",
        "\n",
        "print(green)"
      ],
      "execution_count": null,
      "outputs": []
    },
    {
      "cell_type": "markdown",
      "metadata": {
        "id": "KiwzPjKsVFTi"
      },
      "source": [
        "### 6.3. **FURTHER READING:** Default argument and keyword arguments"
      ]
    },
    {
      "cell_type": "markdown",
      "metadata": {
        "id": "EQ2yOuxyVFTi"
      },
      "source": [
        "In a definition of a function, we can give default values to the arguments the function takes:"
      ]
    },
    {
      "cell_type": "code",
      "metadata": {
        "id": "jRfyE7bLVFTi"
      },
      "source": [
        "def myfunc(x, p=2, debug=False):\n",
        "    if debug:\n",
        "        print(\"evaluating myfunc for x = \" + str(x) + \" using exponent p = \" + str(p))\n",
        "    return x**p"
      ],
      "execution_count": null,
      "outputs": []
    },
    {
      "cell_type": "markdown",
      "metadata": {
        "id": "pirh3aYeVFTi"
      },
      "source": [
        "If we don't provide a value of the `debug` argument when calling the the function `myfunc` it defaults to the value provided in the function definition:"
      ]
    },
    {
      "cell_type": "code",
      "metadata": {
        "id": "4OYF2AQtVFTi"
      },
      "source": [
        "myfunc(5)"
      ],
      "execution_count": null,
      "outputs": []
    },
    {
      "cell_type": "code",
      "metadata": {
        "id": "YS5S-ytgVFTj"
      },
      "source": [
        "myfunc(5, debug=True)"
      ],
      "execution_count": null,
      "outputs": []
    },
    {
      "cell_type": "markdown",
      "metadata": {
        "id": "lbl68p-sVFTj"
      },
      "source": [
        "If we explicitly list the name of the arguments in the function calls, they do not need to come in the same order as in the function definition. This is called *keyword* arguments, and is often very useful in functions that takes a lot of optional arguments."
      ]
    },
    {
      "cell_type": "code",
      "metadata": {
        "id": "J8GVbIVrVFTj"
      },
      "source": [
        "myfunc(p=3, debug=True, x=7)"
      ],
      "execution_count": null,
      "outputs": []
    },
    {
      "cell_type": "markdown",
      "metadata": {
        "id": "8alX3Es8VFTk"
      },
      "source": [
        "### 6.4. **FURTHER READING:** Lambda functions"
      ]
    },
    {
      "cell_type": "markdown",
      "metadata": {
        "id": "ubEk1csHVFTk"
      },
      "source": [
        "In Python we can also create unnamed functions using the `lambda` keyword. We can optionally assign these functions to a variable so that they can be called later."
      ]
    },
    {
      "cell_type": "code",
      "metadata": {
        "id": "8LawyfVkVFTk"
      },
      "source": [
        "f1 = lambda x: x**2\n",
        "    \n",
        "# is equivalent to \n",
        "\n",
        "def f2(x):\n",
        "    return x**2"
      ],
      "execution_count": null,
      "outputs": []
    },
    {
      "cell_type": "code",
      "metadata": {
        "id": "gJG-41fhVFTk"
      },
      "source": [
        "f1(2), f2(2)"
      ],
      "execution_count": null,
      "outputs": []
    },
    {
      "cell_type": "markdown",
      "metadata": {
        "id": "GLBFQ-wpVFTk"
      },
      "source": [
        "This technique is useful for example when we want to pass a simple function as an argument to another function, like this:"
      ]
    },
    {
      "cell_type": "code",
      "metadata": {
        "id": "ESI_I6WZVFTk"
      },
      "source": [
        "map(lambda x: x**2, range(-3, 4))"
      ],
      "execution_count": null,
      "outputs": []
    },
    {
      "cell_type": "markdown",
      "metadata": {
        "id": "JajIshPOyh28"
      },
      "source": [
        "You might have expected to see a list here, but instead we have a `map` object. \n",
        "\n",
        "If you want to see an actual list, you can just pass the map object to `list()` like this:\n"
      ]
    },
    {
      "cell_type": "code",
      "metadata": {
        "id": "1I9Tu4GcVFTl"
      },
      "source": [
        "list(map(lambda x: x**2, range(-3, 4)))"
      ],
      "execution_count": null,
      "outputs": []
    },
    {
      "cell_type": "markdown",
      "source": [
        "## 7. Errors\n"
      ],
      "metadata": {
        "id": "ObbOjyH4YxxG"
      }
    },
    {
      "cell_type": "markdown",
      "source": [
        "### 7.1. **Exercise**\n",
        "In this exercise you see about errors. We are looking two different errors. \n",
        "\n",
        "1.   Syntax Errors\n",
        "2.   Runtime Errors\n",
        "\n",
        "\n"
      ],
      "metadata": {
        "id": "hnyFMaK4aiwc"
      }
    },
    {
      "cell_type": "code",
      "source": [
        "def my_first_function(name)\n",
        "  print(\"Hello \", name)\n",
        "\n",
        "main:\n",
        "  my_first_function(\"World\")\n",
        "#Copy the code and execute. It will throw an error. Solve the error and execute again  "
      ],
      "metadata": {
        "colab": {
          "base_uri": "https://localhost:8080/",
          "height": 131
        },
        "id": "cD1Rdsmgbes1",
        "outputId": "ebe33994-b990-49b6-ca2d-12edc801d53e"
      },
      "execution_count": null,
      "outputs": [
        {
          "output_type": "error",
          "ename": "SyntaxError",
          "evalue": "ignored",
          "traceback": [
            "\u001b[0;36m  File \u001b[0;32m\"<ipython-input-2-241575a5662d>\"\u001b[0;36m, line \u001b[0;32m1\u001b[0m\n\u001b[0;31m    def my_first_function(name)\u001b[0m\n\u001b[0m                               ^\u001b[0m\n\u001b[0;31mSyntaxError\u001b[0m\u001b[0;31m:\u001b[0m invalid syntax\n"
          ]
        }
      ]
    },
    {
      "cell_type": "code",
      "source": [
        "a=100/0\n",
        "print(a)\n",
        "\n",
        "#The above code will throw a runtime exception."
      ],
      "metadata": {
        "colab": {
          "base_uri": "https://localhost:8080/",
          "height": 218
        },
        "id": "QervLzRTcNow",
        "outputId": "a9a39b52-9b84-4475-f6e7-772324b80e4f"
      },
      "execution_count": null,
      "outputs": [
        {
          "output_type": "error",
          "ename": "ZeroDivisionError",
          "evalue": "ignored",
          "traceback": [
            "\u001b[0;31m---------------------------------------------------------------------------\u001b[0m",
            "\u001b[0;31mZeroDivisionError\u001b[0m                         Traceback (most recent call last)",
            "\u001b[0;32m<ipython-input-1-168910607f6a>\u001b[0m in \u001b[0;36m<cell line: 1>\u001b[0;34m()\u001b[0m\n\u001b[0;32m----> 1\u001b[0;31m \u001b[0ma\u001b[0m\u001b[0;34m=\u001b[0m\u001b[0;36m100\u001b[0m\u001b[0;34m/\u001b[0m\u001b[0;36m0\u001b[0m\u001b[0;34m\u001b[0m\u001b[0;34m\u001b[0m\u001b[0m\n\u001b[0m\u001b[1;32m      2\u001b[0m \u001b[0mprint\u001b[0m\u001b[0;34m(\u001b[0m\u001b[0ma\u001b[0m\u001b[0;34m)\u001b[0m\u001b[0;34m\u001b[0m\u001b[0;34m\u001b[0m\u001b[0m\n\u001b[1;32m      3\u001b[0m \u001b[0;34m\u001b[0m\u001b[0m\n\u001b[1;32m      4\u001b[0m \u001b[0;31m#The above code will throw a runtime exception.\u001b[0m\u001b[0;34m\u001b[0m\u001b[0;34m\u001b[0m\u001b[0m\n",
            "\u001b[0;31mZeroDivisionError\u001b[0m: division by zero"
          ]
        }
      ]
    },
    {
      "cell_type": "markdown",
      "source": [
        "### 7.2. **FURTHER READING:** Exception Handling\n",
        "Learn about different exception handling techniques in the below link https://docs.python.org/3/tutorial/errors.html"
      ],
      "metadata": {
        "id": "ZE75FMuOdMJH"
      }
    },
    {
      "cell_type": "markdown",
      "metadata": {
        "id": "dCBCE4yyVFTa"
      },
      "source": [
        "## 8. Modules"
      ]
    },
    {
      "cell_type": "markdown",
      "metadata": {
        "id": "zIZr4PQ5VFTa"
      },
      "source": [
        "Most of the functionality in Python is provided by *modules*. The Python Standard Library is a large collection of modules that provides *cross-platform* implementations of common facilities such as access to the operating system, file I/O, string management, network communication, and much more.\n",
        "\n",
        "To use a module in a Python program it first has to be imported. A module can be imported using the `import` statement. For example, to import the module `math`, which contains many standard mathematical functions, we can do:"
      ]
    },
    {
      "cell_type": "code",
      "metadata": {
        "id": "htIcdDe1VFTa"
      },
      "source": [
        "import math"
      ],
      "execution_count": null,
      "outputs": []
    },
    {
      "cell_type": "markdown",
      "metadata": {
        "id": "xodPV6EWVFTb"
      },
      "source": [
        "This includes the whole module and makes it available for use later in the program. For example, we can do:"
      ]
    },
    {
      "cell_type": "code",
      "metadata": {
        "id": "kU0IWanRVFTb"
      },
      "source": [
        "import math\n",
        "\n",
        "x = math.cos(2 * math.pi)\n",
        "\n",
        "print(x)"
      ],
      "execution_count": null,
      "outputs": []
    },
    {
      "cell_type": "markdown",
      "metadata": {
        "id": "v0978t5KVFTb"
      },
      "source": [
        "Alternatively, we can chose to import all of the symbols (functions and variables) from a module to the current namespace (so that we don't need to use the prefix \"`math.`\" every time we use something from the `math` module. We can do this with the wildcard character `*`\n"
      ]
    },
    {
      "cell_type": "code",
      "metadata": {
        "id": "C9pkqdA_VFTb"
      },
      "source": [
        "from math import *\n",
        "\n",
        "x = cos(2 * pi)\n",
        "\n",
        "print(x)"
      ],
      "execution_count": null,
      "outputs": []
    },
    {
      "cell_type": "markdown",
      "metadata": {
        "id": "pmpGOVvzVFTc"
      },
      "source": [
        "This pattern can be very convenient, but in large programs that include many modules it is often a good idea to keep the symbols from each module in their own namespaces, by using the `import math` pattern. This would elminate potentially confusing problems with name space collisions.\n",
        "\n",
        "we can chose to import only a few selected symbols from a module by explicitly listing which ones we want to import instead of using the wildcard character `*`:"
      ]
    },
    {
      "cell_type": "code",
      "metadata": {
        "id": "cmsPMu8tVFTc"
      },
      "source": [
        "from math import cos, pi\n",
        "\n",
        "x = cos(2 * pi)\n",
        "\n",
        "print(x)"
      ],
      "execution_count": null,
      "outputs": []
    },
    {
      "cell_type": "markdown",
      "metadata": {
        "id": "QtvqpRWEVFTc"
      },
      "source": [
        "### 8.1. **FURTHER READING:** Looking at what a module contains, and its documentation"
      ]
    },
    {
      "cell_type": "markdown",
      "metadata": {
        "id": "wfp3uA-5VFTc"
      },
      "source": [
        "Once a module is imported, we can list the symbols it provides using the `dir` function:"
      ]
    },
    {
      "cell_type": "code",
      "metadata": {
        "id": "83ae-gl1VFTc"
      },
      "source": [
        "import math\n",
        "\n",
        "print(dir(math))"
      ],
      "execution_count": null,
      "outputs": []
    },
    {
      "cell_type": "markdown",
      "metadata": {
        "id": "DKAPUJOSVFTd"
      },
      "source": [
        "And using the function `help` we can get a description of each function (almost .. not all functions have docstrings, as they are technically called, but the vast majority of functions are documented this way). "
      ]
    },
    {
      "cell_type": "code",
      "metadata": {
        "id": "lbOk9jMfVFTd"
      },
      "source": [
        "help(math.log)"
      ],
      "execution_count": null,
      "outputs": []
    },
    {
      "cell_type": "code",
      "metadata": {
        "id": "gVLsk6acVFTd"
      },
      "source": [
        "math.log(10)"
      ],
      "execution_count": null,
      "outputs": []
    },
    {
      "cell_type": "code",
      "metadata": {
        "id": "LoLpsvbhVFTe"
      },
      "source": [
        "log(10, 2)"
      ],
      "execution_count": null,
      "outputs": []
    },
    {
      "cell_type": "markdown",
      "metadata": {
        "id": "zAMz06pcVFTe"
      },
      "source": [
        "We can also use the `help` function directly on modules: Try\n",
        "\n",
        "    help(math) \n",
        "\n",
        "Some very useful modules form the Python standard library are `os`, `sys`, `math`, `shutil` or `re`."
      ]
    },
    {
      "cell_type": "markdown",
      "metadata": {
        "id": "t3xGCiWypK2g"
      },
      "source": [
        "# 8. Mini Python Project\n",
        "\n",
        "The problem: gather some statistics about a block of text.\n",
        "- Overall word count.\n",
        "- Number of times the words \"woman\" or \"women\" appear.\n",
        "- Top 5 words, ordered by count.\n",
        "\n",
        "It's OK to pass state between cells: they should be run from top to bottom. The last cell contains tests to validate that your answers are correct."
      ]
    },
    {
      "cell_type": "markdown",
      "metadata": {
        "id": "pTQMhdJ436XT"
      },
      "source": [
        "### 8.1 Overall word count\n",
        "Key concepts: strings, lists, conversion, variables."
      ]
    },
    {
      "cell_type": "code",
      "metadata": {
        "id": "eBYuNosc3QX8"
      },
      "source": [
        "# Text source: https://en.wikipedia.org/wiki/Women_in_science\n",
        "text = \"\"\"\n",
        "Women have made significant contributions to science from the earliest times.\n",
        "Historians with an interest in gender and science have illuminated the\n",
        "scientific endeavors and accomplishments of women, the barriers they have\n",
        "faced, and the strategies implemented to have their work peer-reviewed and\n",
        "accepted in major scientific journals and other publications. The historical,\n",
        "critical and sociological study of these issues has become an academic\n",
        "discipline in its own right.\n",
        "\n",
        "The involvement of women in the field of medicine occurred in several early\n",
        "civilizations, and the study of natural philosophy in ancient Greece was open\n",
        "to women. Women contributed to the proto-science of alchemy in the first or\n",
        "second centuries AD. During the Middle Ages, convents were an important place\n",
        "of education for women, and some of these communities provided opportunities\n",
        "for women to contribute to scholarly research. While the eleventh century saw\n",
        "the emergence of the first universities, women were, for the most part,\n",
        "excluded from university education. Outside academia, botany was the science\n",
        "that benefitted most from contributions of women in early modern times. The\n",
        "attitude toward educating women in medical fields appears to have been more\n",
        "liberal in Italy than in other places. The first known woman to earn a\n",
        "university chair in a scientific field of studies was eighteenth-century\n",
        "Italian scientist Laura Bassi.\n",
        "\"\"\"\n",
        "\n",
        "words = ???\n",
        "number_of_words = ???\n",
        "print(f\"Number of words: {number_of_words}\")"
      ],
      "execution_count": null,
      "outputs": []
    },
    {
      "cell_type": "markdown",
      "metadata": {
        "id": "Tx5qnuAp3bst"
      },
      "source": [
        "## 8.2. Number of occurrences of \"woman\" or \"women\"\n",
        "Count the number of times the words \"woman\" or \"women\" appear. These words should be considered equivalent, so one number should be printed out. \n",
        "\n",
        "Key concepts: functions, string manipulation, loops, comprehension, conditional, lists."
      ]
    },
    {
      "cell_type": "code",
      "metadata": {
        "id": "lAfaIcIq3e-p"
      },
      "source": [
        "women_occurrences = ???\n",
        "print(f\"Occurrences of 'women': {women_occurrences}\")"
      ],
      "execution_count": null,
      "outputs": []
    },
    {
      "cell_type": "markdown",
      "metadata": {
        "id": "MEcta4hB3i5s"
      },
      "source": [
        "## 8.3.Top 5 words, ordered by count\n",
        "Print the top 5 words that _don't_ appear in this list: _a an and for from has have in its of the to was were with_.\n",
        "\n",
        "Key concepts: dictionary, sort, slice, lambda (anonymous function)."
      ]
    },
    {
      "cell_type": "code",
      "metadata": {
        "id": "DvgR5n7M3mO5"
      },
      "source": [
        "top_words = ???\n",
        "print(top_words)"
      ],
      "execution_count": null,
      "outputs": []
    },
    {
      "cell_type": "markdown",
      "metadata": {
        "id": "vHboLZ2R3qNd"
      },
      "source": [
        "## 8.4. Tests / Validation\n",
        "Run this code without modification to see whether your solution is correct."
      ]
    },
    {
      "cell_type": "code",
      "metadata": {
        "id": "G4q5rhoP3uWY"
      },
      "source": [
        "assert number_of_words == 216, \"Expected 216 words\"\n",
        "assert women_occurrences == 11, \"Expected 11 occurrences of 'woman' or 'women'\"\n",
        "assert top_words == ['women', 'science', 'scientific', 'first', 'contributions'], \"Top 7 words don't match expectation\"\n",
        "print(\"Tests passed! 🎉\")"
      ],
      "execution_count": null,
      "outputs": []
    },
    {
      "cell_type": "markdown",
      "metadata": {
        "id": "UQvIlcLmVFTp"
      },
      "source": [
        "## 9. Further reading"
      ]
    },
    {
      "cell_type": "markdown",
      "metadata": {
        "id": "0cr4vPUMVFTp"
      },
      "source": [
        "* https://docs.python.org/3/tutorial/ - The Python tutorial\n",
        "* http://www.greenteapress.com/thinkpython/ - A free book on Python programming.\n",
        "* http://www.diveintopython3.net/ - Another free ebook Dive Into Python 3\n",
        "* http://www.thomas-cokelaer.info/tutorials/python/ - Python notes\n",
        "* http://www.python.org - The official web page of the Python programming language.\n",
        "* http://www.python.org/dev/peps/pep-0008 - Style guide for Python programming. Highly recommended.\n",
        "\n",
        "\n",
        "* https://s3.amazonaws.com/assets.datacamp.com/blog_assets/PythonForDataScience.pdf Python cheat sheet for variables and data types, Strings, Lists"
      ]
    },
    {
      "cell_type": "markdown",
      "metadata": {
        "id": "mynknCp2VFTa"
      },
      "source": [
        "References:\n",
        "\n",
        " * The Python 3 Language Reference: https://docs.python.org/3/reference/index.html\n",
        " * The Python 3 Standard Library: https://docs.python.org/3/library/"
      ]
    }
  ]
}